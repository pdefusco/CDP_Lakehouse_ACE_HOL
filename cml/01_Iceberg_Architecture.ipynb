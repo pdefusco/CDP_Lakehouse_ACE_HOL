{
 "cells": [
  {
   "cell_type": "markdown",
   "id": "0942afe9-7629-4b3e-b747-b795a6454a2b",
   "metadata": {},
   "source": [
    "## Introduction to Iceberg Architecture"
   ]
  },
  {
   "cell_type": "markdown",
   "id": "4fd15c6f-e31d-440c-bc48-966385b7c5ec",
   "metadata": {},
   "source": [
    "#### Launching a Spark Session with Iceberg"
   ]
  },
  {
   "cell_type": "code",
   "execution_count": 1,
   "id": "9f139b6a-eed6-4848-9e82-593aabad58b4",
   "metadata": {},
   "outputs": [
    {
     "name": "stderr",
     "output_type": "stream",
     "text": [
      "Setting spark.hadoop.yarn.resourcemanager.principal to pauldefusco\n",
      "Hive Session ID = c49f2e85-357b-4403-8d9c-63f646cc2604\n"
     ]
    },
    {
     "name": "stdout",
     "output_type": "stream",
     "text": [
      "+--------------------+\n",
      "|           namespace|\n",
      "+--------------------+\n",
      "|         01_car_data|\n",
      "|           01_car_dw|\n",
      "|      adash_car_data|\n",
      "|             airline|\n",
      "|          airline_dw|\n",
      "|            airlines|\n",
      "|        airlines_csv|\n",
      "|       airlines_csv1|\n",
      "|   airlines_csv_vish|\n",
      "|    airlines_iceberg|\n",
      "|   airlines_iceberg1|\n",
      "|airlines_iceberg_...|\n",
      "|      airlines_mjain|\n",
      "|          airquality|\n",
      "|          atlas_demo|\n",
      "|            bankdemo|\n",
      "|              bhagan|\n",
      "|             cdedemo|\n",
      "|        cdp_overview|\n",
      "|        cgsifacebook|\n",
      "+--------------------+\n",
      "only showing top 20 rows\n",
      "\n"
     ]
    }
   ],
   "source": [
    "import cml.data_v1 as cmldata\n",
    "\n",
    "CONNECTION_NAME = \"go01-aw-dl\"\n",
    "conn = cmldata.get_connection(CONNECTION_NAME)\n",
    "spark = conn.get_spark_session()\n",
    "\n",
    "# Sample usage to run query through spark\n",
    "EXAMPLE_SQL_QUERY = \"show databases\"\n",
    "spark.sql(EXAMPLE_SQL_QUERY).show()"
   ]
  },
  {
   "cell_type": "code",
   "execution_count": 2,
   "id": "d3bbf1bf-a0a1-4864-8c98-88dfb994060a",
   "metadata": {},
   "outputs": [
    {
     "data": {
      "text/plain": [
       "[('spark.eventLog.enabled', 'true'),\n",
       " ('spark.repl.local.jars',\n",
       "  'file:///runtime-addons/spark320-17-hf1-6xa3lk/opt/spark/optional-lib/iceberg-spark-runtime-3.2_2.12-0.14.1.1.17.7215.0-31.jar'),\n",
       " ('spark.kubernetes.executor.podNamePrefix', 'cdsw-uonfwybcz7ux1xd0'),\n",
       " ('spark.network.crypto.enabled', 'true'),\n",
       " ('spark.sql.hive.hwc.execution.mode', 'spark'),\n",
       " ('spark.kerberos.renewal.credentials', 'ccache'),\n",
       " ('spark.sql.catalog.spark_catalog',\n",
       "  'org.apache.iceberg.spark.SparkSessionCatalog'),\n",
       " ('spark.dynamicAllocation.maxExecutors', '49'),\n",
       " ('spark.eventLog.dir', 'file:///sparkeventlogs'),\n",
       " ('spark.hadoop.yarn.resourcemanager.principal', 'pauldefusco'),\n",
       " ('spark.kubernetes.driver.annotation.cluster-autoscaler.kubernetes.io/safe-to-evict',\n",
       "  'false'),\n",
       " ('spark.ui.port', '20049'),\n",
       " ('spark.yarn.access.hadoopFileSystems',\n",
       "  's3a://go01-demo/warehouse/tablespace/external/hive'),\n",
       " ('spark.sql.extensions',\n",
       "  'com.qubole.spark.hiveacid.HiveAcidAutoConvertExtension,org.apache.iceberg.spark.extensions.IcebergSparkSessionExtensions'),\n",
       " ('spark.kubernetes.executor.annotation.cluster-autoscaler.kubernetes.io/safe-to-evict',\n",
       "  'false'),\n",
       " ('spark.driver.memory', '3051m'),\n",
       " ('spark.io.encryption.enabled', 'true'),\n",
       " ('spark.app.startTime', '1682634842547'),\n",
       " ('spark.app.initial.jar.urls',\n",
       "  'spark://100.100.178.79:46739/jars/iceberg-spark-runtime-3.2_2.12-0.14.1.1.17.7215.0-31.jar'),\n",
       " ('spark.serializer.objectStreamReset', '100'),\n",
       " ('spark.kubernetes.driver.pod.name', 'uonfwybcz7ux1xd0'),\n",
       " ('spark.submit.deployMode', 'client'),\n",
       " ('spark.master', 'k8s://https://172.20.0.1:443'),\n",
       " ('spark.app.id', 'spark-application-1682634844485'),\n",
       " ('spark.kubernetes.executor.podTemplateFile', '/tmp/spark-executor.json'),\n",
       " ('spark.ui.proxyRedirectUri',\n",
       "  'https://spark-uonfwybcz7ux1xd0.ml-4c5feac0-3ec.go01-dem.ylcu-atmi.cloudera.site'),\n",
       " ('spark.jars', '/opt/spark/optional-lib/iceberg-spark-runtime.jar'),\n",
       " ('spark.dynamicAllocation.shuffleTracking.enabled', 'true'),\n",
       " ('spark.driver.port', '46739'),\n",
       " ('spark.kubernetes.container.image',\n",
       "  'docker.repository.cloudera.com/cloudera/cdsw/ml-runtime-jupyterlab-python3.7-standard:2022.11.1-b2'),\n",
       " ('spark.kubernetes.namespace', 'mlx-user-16'),\n",
       " ('spark.driver.host', '100.100.178.79'),\n",
       " ('spark.kubernetes.executor.config.dir', '/var/spark/conf'),\n",
       " ('spark.sql.warehouse.dir',\n",
       "  's3a://go01-demo/warehouse/tablespace/external/hive'),\n",
       " ('spark.executor.id', 'driver'),\n",
       " ('spark.yarn.rmProxy.enabled', 'false'),\n",
       " ('spark.driver.bindAddress', '100.100.178.79'),\n",
       " ('spark.sql.catalogImplementation', 'hive'),\n",
       " ('spark.rdd.compress', 'True'),\n",
       " ('spark.kryo.registrator',\n",
       "  'com.qubole.spark.hiveacid.util.HiveAcidKyroRegistrator'),\n",
       " ('spark.ui.allowFramingFrom',\n",
       "  'https://ml-4c5feac0-3ec.go01-dem.ylcu-atmi.cloudera.site'),\n",
       " ('spark.submit.pyFiles', ''),\n",
       " ('spark.dynamicAllocation.enabled', 'true'),\n",
       " ('spark.deploy.mode', 'client'),\n",
       " ('spark.app.name', 'None'),\n",
       " ('spark.ui.showConsoleProgress', 'true'),\n",
       " ('spark.sql.catalog.spark_catalog.type', 'hive'),\n",
       " ('spark.authenticate', 'true')]"
      ]
     },
     "execution_count": 2,
     "metadata": {},
     "output_type": "execute_result"
    }
   ],
   "source": [
    "spark.sparkContext.getConf().getAll()"
   ]
  },
  {
   "cell_type": "markdown",
   "id": "fa007770-01e4-4c2e-a784-6955c448c952",
   "metadata": {},
   "source": [
    "### Iceberg Architecture"
   ]
  },
  {
   "cell_type": "markdown",
   "id": "6ad5615b-c7e6-4528-bd48-db0841d38c39",
   "metadata": {},
   "source": [
    "![alt text](../img/iceberg-metadata.png)"
   ]
  },
  {
   "cell_type": "markdown",
   "id": "86c3c93c-4065-422b-9697-609ae50687c7",
   "metadata": {},
   "source": [
    "#### Iceberg Catalog"
   ]
  },
  {
   "cell_type": "markdown",
   "id": "30001dd5-c3ef-4223-84ca-e63552c4f879",
   "metadata": {},
   "source": [
    "Iceberg comes with catalogs that enable SQL commands to manage tables and load them by name. Catalogs are configured using properties under spark.sql.catalog.(catalog_name)."
   ]
  },
  {
   "cell_type": "code",
   "execution_count": 3,
   "id": "a3819a08-8e00-4184-bdc6-79b3d8507d83",
   "metadata": {},
   "outputs": [
    {
     "name": "stdout",
     "output_type": "stream",
     "text": [
      "+-------------+---------+\n",
      "|      catalog|namespace|\n",
      "+-------------+---------+\n",
      "|spark_catalog|  default|\n",
      "+-------------+---------+\n",
      "\n"
     ]
    }
   ],
   "source": [
    "# Show catalog and database\n",
    "spark.sql(\"SHOW CURRENT NAMESPACE\").show()"
   ]
  },
  {
   "cell_type": "code",
   "execution_count": 4,
   "id": "f1119faa-93a7-4ebe-85b1-3ec87eb54b7b",
   "metadata": {},
   "outputs": [
    {
     "data": {
      "text/plain": [
       "DataFrame[]"
      ]
     },
     "execution_count": 4,
     "metadata": {},
     "output_type": "execute_result"
    }
   ],
   "source": [
    "# Create a new database\n",
    "spark.sql(\"CREATE DATABASE IF NOT EXISTS spark_catalog.lakehouse_catalog\")\n",
    "spark.sql(\"USE spark_catalog.lakehouse_catalog\")"
   ]
  },
  {
   "cell_type": "code",
   "execution_count": 5,
   "id": "834ca50c-9c2f-43ac-9ec0-9cf28e8507d6",
   "metadata": {},
   "outputs": [
    {
     "name": "stdout",
     "output_type": "stream",
     "text": [
      "+-------------+-----------------+\n",
      "|      catalog|        namespace|\n",
      "+-------------+-----------------+\n",
      "|spark_catalog|lakehouse_catalog|\n",
      "+-------------+-----------------+\n",
      "\n"
     ]
    }
   ],
   "source": [
    "# Show catalog and database\n",
    "spark.sql(\"SHOW CURRENT NAMESPACE\").show()"
   ]
  },
  {
   "cell_type": "markdown",
   "id": "eb6cecda-848a-4cbe-b7a8-d73096cab11f",
   "metadata": {},
   "source": [
    "#### Create an Iceberg Table with Spark SQL"
   ]
  },
  {
   "cell_type": "code",
   "execution_count": 6,
   "id": "3c5daa62-cde3-440a-ad91-0c6f9b41ef3f",
   "metadata": {},
   "outputs": [
    {
     "name": "stderr",
     "output_type": "stream",
     "text": [
      "                                                                                \r"
     ]
    },
    {
     "data": {
      "text/plain": [
       "DataFrame[]"
      ]
     },
     "execution_count": 6,
     "metadata": {},
     "output_type": "execute_result"
    }
   ],
   "source": [
    "spark.sql(\"DROP TABLE IF EXISTS customers_table\")"
   ]
  },
  {
   "cell_type": "code",
   "execution_count": 7,
   "id": "b19e0de9-29c4-43dd-ae5c-c2bd69558032",
   "metadata": {},
   "outputs": [
    {
     "data": {
      "text/plain": [
       "DataFrame[]"
      ]
     },
     "execution_count": 7,
     "metadata": {},
     "output_type": "execute_result"
    }
   ],
   "source": [
    "spark.sql(\"CREATE TABLE IF NOT EXISTS customers_table (id BIGINT, state STRING, country STRING, dob TIMESTAMP) USING iceberg PARTITIONED BY ( hours(dob))\")"
   ]
  },
  {
   "cell_type": "markdown",
   "id": "1eea95e7-e221-4997-9071-208cbc9f9fc5",
   "metadata": {},
   "source": [
    "#### Verify that a Metadata JSON file has been created under the Metadata directory"
   ]
  },
  {
   "cell_type": "code",
   "execution_count": 8,
   "id": "2668955d-14e9-43c9-a359-61cd9ae5bff6",
   "metadata": {},
   "outputs": [],
   "source": [
    "metadata_path = \"s3a://go01-demo/warehouse/tablespace/external/hive/lakehouse_catalog.db/customers_table/metadata\""
   ]
  },
  {
   "cell_type": "code",
   "execution_count": 9,
   "id": "bfa6cae7-8598-4088-8de8-751341c257b1",
   "metadata": {},
   "outputs": [
    {
     "name": "stdout",
     "output_type": "stream",
     "text": [
      "warehouse/tablespace/external/hive/lakehouse_catalog.db/customers_table/metadata/00000-29b2d826-3800-4e48-a79b-78faf446c956.metadata.json\n"
     ]
    }
   ],
   "source": [
    "import boto3\n",
    "\n",
    "s3 = boto3.resource('s3')\n",
    "my_bucket = s3.Bucket(\"go01-demo\")\n",
    "\n",
    "for object_summary in my_bucket.objects.filter(Prefix=\"warehouse/tablespace/external/hive/lakehouse_catalog.db/customers_table/metadata\"):\n",
    "    print(object_summary.key)\n",
    "    metadata_file = object_summary.key"
   ]
  },
  {
   "cell_type": "code",
   "execution_count": 10,
   "id": "e03d542a-f982-4b9a-bc19-84a26d504cbe",
   "metadata": {},
   "outputs": [
    {
     "data": {
      "text/html": [
       "<div>\n",
       "<style scoped>\n",
       "    .dataframe tbody tr th:only-of-type {\n",
       "        vertical-align: middle;\n",
       "    }\n",
       "\n",
       "    .dataframe tbody tr th {\n",
       "        vertical-align: top;\n",
       "    }\n",
       "\n",
       "    .dataframe thead th {\n",
       "        text-align: right;\n",
       "    }\n",
       "</style>\n",
       "<table border=\"1\" class=\"dataframe\">\n",
       "  <thead>\n",
       "    <tr style=\"text-align: right;\">\n",
       "      <th></th>\n",
       "      <th>current-schema-id</th>\n",
       "      <th>current-snapshot-id</th>\n",
       "      <th>default-sort-order-id</th>\n",
       "      <th>default-spec-id</th>\n",
       "      <th>format-version</th>\n",
       "      <th>last-column-id</th>\n",
       "      <th>last-partition-id</th>\n",
       "      <th>last-updated-ms</th>\n",
       "      <th>location</th>\n",
       "      <th>metadata-log</th>\n",
       "      <th>partition-spec</th>\n",
       "      <th>partition-specs</th>\n",
       "      <th>properties</th>\n",
       "      <th>schema</th>\n",
       "      <th>schemas</th>\n",
       "      <th>snapshot-log</th>\n",
       "      <th>snapshots</th>\n",
       "      <th>sort-orders</th>\n",
       "      <th>table-uuid</th>\n",
       "    </tr>\n",
       "  </thead>\n",
       "  <tbody>\n",
       "    <tr>\n",
       "      <th>0</th>\n",
       "      <td>0</td>\n",
       "      <td>-1</td>\n",
       "      <td>0</td>\n",
       "      <td>0</td>\n",
       "      <td>1</td>\n",
       "      <td>4</td>\n",
       "      <td>1000</td>\n",
       "      <td>1682634884957</td>\n",
       "      <td>s3a://go01-demo/warehouse/tablespace/external/...</td>\n",
       "      <td>[]</td>\n",
       "      <td>[(1000, dob_hour, 4, hour)]</td>\n",
       "      <td>[([Row(field-id=1000, name='dob_hour', source-...</td>\n",
       "      <td>(pauldefusco,)</td>\n",
       "      <td>([(1, id, False, long), (2, state, False, stri...</td>\n",
       "      <td>[([Row(id=1, name='id', required=False, type='...</td>\n",
       "      <td>[]</td>\n",
       "      <td>[]</td>\n",
       "      <td>[([], 0)]</td>\n",
       "      <td>40c6c008-a95c-4471-bc69-4c2a805ae6ed</td>\n",
       "    </tr>\n",
       "  </tbody>\n",
       "</table>\n",
       "</div>"
      ],
      "text/plain": [
       "   current-schema-id  current-snapshot-id  default-sort-order-id  \\\n",
       "0                  0                   -1                      0   \n",
       "\n",
       "   default-spec-id  format-version  last-column-id  last-partition-id  \\\n",
       "0                0               1               4               1000   \n",
       "\n",
       "   last-updated-ms                                           location  \\\n",
       "0    1682634884957  s3a://go01-demo/warehouse/tablespace/external/...   \n",
       "\n",
       "  metadata-log               partition-spec  \\\n",
       "0           []  [(1000, dob_hour, 4, hour)]   \n",
       "\n",
       "                                     partition-specs      properties  \\\n",
       "0  [([Row(field-id=1000, name='dob_hour', source-...  (pauldefusco,)   \n",
       "\n",
       "                                              schema  \\\n",
       "0  ([(1, id, False, long), (2, state, False, stri...   \n",
       "\n",
       "                                             schemas snapshot-log snapshots  \\\n",
       "0  [([Row(id=1, name='id', required=False, type='...           []        []   \n",
       "\n",
       "  sort-orders                            table-uuid  \n",
       "0   [([], 0)]  40c6c008-a95c-4471-bc69-4c2a805ae6ed  "
      ]
     },
     "execution_count": 10,
     "metadata": {},
     "output_type": "execute_result"
    }
   ],
   "source": [
    "import pandas as pd\n",
    "spark.read.option(\"multiline\",\"true\").json(\"s3a://go01-demo/\" + metadata_file).toPandas()"
   ]
  },
  {
   "cell_type": "markdown",
   "id": "357d7e23-9be4-4b92-bbb0-cb69da6f1476",
   "metadata": {},
   "source": [
    "![alt text](../img/s3_metadata.png)"
   ]
  },
  {
   "cell_type": "markdown",
   "id": "63f6b96e-d878-4e2e-91a0-1ef785833479",
   "metadata": {},
   "source": [
    "#### Notice that no snapshots or other files have been created as data has not yet been inserted."
   ]
  },
  {
   "cell_type": "code",
   "execution_count": 11,
   "id": "972dced2-83a3-4c4f-a63d-2936a54534d3",
   "metadata": {},
   "outputs": [
    {
     "name": "stdout",
     "output_type": "stream",
     "text": [
      "+---------------+-----------+---------+-------------------+\n",
      "|made_current_at|snapshot_id|parent_id|is_current_ancestor|\n",
      "+---------------+-----------+---------+-------------------+\n",
      "+---------------+-----------+---------+-------------------+\n",
      "\n"
     ]
    }
   ],
   "source": [
    "spark.sql(\"SELECT * FROM lakehouse_catalog.customers_table.history\").show()"
   ]
  },
  {
   "cell_type": "code",
   "execution_count": 12,
   "id": "69478da6-7a68-429e-b7fe-02280556c0d5",
   "metadata": {},
   "outputs": [],
   "source": [
    "#spark.sql(\"SELECT * FROM lakehouse_catalog.customers_table.metadata_log_entries\").show()"
   ]
  },
  {
   "cell_type": "code",
   "execution_count": 13,
   "id": "d726f825-38b0-4342-a0ea-0f932ce20355",
   "metadata": {},
   "outputs": [
    {
     "name": "stdout",
     "output_type": "stream",
     "text": [
      "+------------+-----------+---------+---------+-------------+-------+\n",
      "|committed_at|snapshot_id|parent_id|operation|manifest_list|summary|\n",
      "+------------+-----------+---------+---------+-------------+-------+\n",
      "+------------+-----------+---------+---------+-------------+-------+\n",
      "\n"
     ]
    }
   ],
   "source": [
    "spark.sql(\"SELECT * FROM lakehouse_catalog.customers_table.snapshots;\").show()"
   ]
  },
  {
   "cell_type": "code",
   "execution_count": 14,
   "id": "68f5ad55-0adb-4ab3-8574-da44c3af6b3b",
   "metadata": {},
   "outputs": [
    {
     "name": "stdout",
     "output_type": "stream",
     "text": [
      "+-------+---------+-----------+-------+---------+------------+------------------+------------+------------+-----------------+----------------+------------+------------+------------+-------------+------------+-------------+\n",
      "|content|file_path|file_format|spec_id|partition|record_count|file_size_in_bytes|column_sizes|value_counts|null_value_counts|nan_value_counts|lower_bounds|upper_bounds|key_metadata|split_offsets|equality_ids|sort_order_id|\n",
      "+-------+---------+-----------+-------+---------+------------+------------------+------------+------------+-----------------+----------------+------------+------------+------------+-------------+------------+-------------+\n",
      "+-------+---------+-----------+-------+---------+------------+------------------+------------+------------+-----------------+----------------+------------+------------+------------+-------------+------------+-------------+\n",
      "\n"
     ]
    }
   ],
   "source": [
    "spark.sql(\"SELECT * FROM lakehouse_catalog.customers_table.files;\").show()"
   ]
  },
  {
   "cell_type": "code",
   "execution_count": 15,
   "id": "636820a4-528b-42f2-9153-2180206420de",
   "metadata": {},
   "outputs": [
    {
     "name": "stdout",
     "output_type": "stream",
     "text": [
      "+-------+----+------+-----------------+-----------------+----------------------+-------------------------+------------------------+------------------------+---------------------------+--------------------------+-------------------+\n",
      "|content|path|length|partition_spec_id|added_snapshot_id|added_data_files_count|existing_data_files_count|deleted_data_files_count|added_delete_files_count|existing_delete_files_count|deleted_delete_files_count|partition_summaries|\n",
      "+-------+----+------+-----------------+-----------------+----------------------+-------------------------+------------------------+------------------------+---------------------------+--------------------------+-------------------+\n",
      "+-------+----+------+-----------------+-----------------+----------------------+-------------------------+------------------------+------------------------+---------------------------+--------------------------+-------------------+\n",
      "\n"
     ]
    }
   ],
   "source": [
    "spark.sql(\"SELECT * FROM lakehouse_catalog.customers_table.manifests;\").show()"
   ]
  },
  {
   "cell_type": "code",
   "execution_count": 16,
   "id": "c8544499-8ba1-4156-b641-89c10c281926",
   "metadata": {},
   "outputs": [
    {
     "name": "stdout",
     "output_type": "stream",
     "text": [
      "+-------+---------+-----------+-------+---------+------------+------------------+------------+------------+-----------------+----------------+------------+------------+------------+-------------+------------+-------------+\n",
      "|content|file_path|file_format|spec_id|partition|record_count|file_size_in_bytes|column_sizes|value_counts|null_value_counts|nan_value_counts|lower_bounds|upper_bounds|key_metadata|split_offsets|equality_ids|sort_order_id|\n",
      "+-------+---------+-----------+-------+---------+------------+------------------+------------+------------+-----------------+----------------+------------+------------+------------+-------------+------------+-------------+\n",
      "+-------+---------+-----------+-------+---------+------------+------------------+------------+------------+-----------------+----------------+------------+------------+------------+-------------+------------+-------------+\n",
      "\n"
     ]
    }
   ],
   "source": [
    "spark.sql(\"SELECT * FROM lakehouse_catalog.customers_table.all_data_files;\").show()"
   ]
  },
  {
   "cell_type": "code",
   "execution_count": 17,
   "id": "323639fc-1ed3-418d-ae0e-8c1674a30ac9",
   "metadata": {},
   "outputs": [
    {
     "name": "stdout",
     "output_type": "stream",
     "text": [
      "+-------+----+------+-----------------+-----------------+----------------------+-------------------------+------------------------+------------------------+---------------------------+--------------------------+-------------------+---------------------+\n",
      "|content|path|length|partition_spec_id|added_snapshot_id|added_data_files_count|existing_data_files_count|deleted_data_files_count|added_delete_files_count|existing_delete_files_count|deleted_delete_files_count|partition_summaries|reference_snapshot_id|\n",
      "+-------+----+------+-----------------+-----------------+----------------------+-------------------------+------------------------+------------------------+---------------------------+--------------------------+-------------------+---------------------+\n",
      "+-------+----+------+-----------------+-----------------+----------------------+-------------------------+------------------------+------------------------+---------------------------+--------------------------+-------------------+---------------------+\n",
      "\n"
     ]
    }
   ],
   "source": [
    "spark.sql(\"SELECT * FROM lakehouse_catalog.customers_table.all_manifests;\").show()"
   ]
  },
  {
   "cell_type": "markdown",
   "id": "24046132-45da-4f28-a60b-f0227b8fb7cc",
   "metadata": {},
   "source": [
    "### Table Insert"
   ]
  },
  {
   "cell_type": "code",
   "execution_count": 18,
   "id": "028f245c-e167-4418-9e96-fd098e0cb6cf",
   "metadata": {},
   "outputs": [],
   "source": [
    "from pyspark.sql.functions import date_format"
   ]
  },
  {
   "cell_type": "code",
   "execution_count": 19,
   "id": "3f2d7725-fe94-4a8c-82d0-319c1cefef8a",
   "metadata": {},
   "outputs": [
    {
     "name": "stderr",
     "output_type": "stream",
     "text": [
      "                                                                                \r"
     ]
    },
    {
     "data": {
      "text/plain": [
       "DataFrame[]"
      ]
     },
     "execution_count": 19,
     "metadata": {},
     "output_type": "execute_result"
    }
   ],
   "source": [
    "spark.sql(\"INSERT INTO lakehouse_catalog.customers_table VALUES (1, 'CA', 'USA', cast(date_format('2000-01-01 00:00:00', 'yyyy-MM-dd HH:mm:ss') as timestamp))\")"
   ]
  },
  {
   "cell_type": "markdown",
   "id": "44f0d668-9e68-4b1c-a881-5d1265f999c7",
   "metadata": {},
   "source": [
    "#### Validate that data has been added to the data folder"
   ]
  },
  {
   "cell_type": "code",
   "execution_count": 20,
   "id": "da0242b8-93b9-4471-9aae-7a8f162a2320",
   "metadata": {},
   "outputs": [],
   "source": [
    "QUERY = \"select h.made_current_at,\\\n",
    "            s.operation,\\\n",
    "            h.snapshot_id,\\\n",
    "            h.is_current_ancestor,\\\n",
    "            s.summary['spark.app.id']\\\n",
    "        from lakehouse_catalog.customers_table.history h\\\n",
    "        join lakehouse_catalog.customers_table.snapshots s\\\n",
    "            on h.snapshot_id = s.snapshot_id\\\n",
    "            order by made_current_at;\""
   ]
  },
  {
   "cell_type": "code",
   "execution_count": 21,
   "id": "76eaa58b-c77b-437a-979d-feaa4ac9b536",
   "metadata": {},
   "outputs": [
    {
     "name": "stderr",
     "output_type": "stream",
     "text": [
      "                                                                                \r"
     ]
    },
    {
     "data": {
      "text/html": [
       "<div>\n",
       "<style scoped>\n",
       "    .dataframe tbody tr th:only-of-type {\n",
       "        vertical-align: middle;\n",
       "    }\n",
       "\n",
       "    .dataframe tbody tr th {\n",
       "        vertical-align: top;\n",
       "    }\n",
       "\n",
       "    .dataframe thead th {\n",
       "        text-align: right;\n",
       "    }\n",
       "</style>\n",
       "<table border=\"1\" class=\"dataframe\">\n",
       "  <thead>\n",
       "    <tr style=\"text-align: right;\">\n",
       "      <th></th>\n",
       "      <th>made_current_at</th>\n",
       "      <th>operation</th>\n",
       "      <th>snapshot_id</th>\n",
       "      <th>is_current_ancestor</th>\n",
       "      <th>summary[spark.app.id]</th>\n",
       "    </tr>\n",
       "  </thead>\n",
       "  <tbody>\n",
       "    <tr>\n",
       "      <th>0</th>\n",
       "      <td>2023-04-27 22:34:53.810</td>\n",
       "      <td>append</td>\n",
       "      <td>6887654183493915966</td>\n",
       "      <td>True</td>\n",
       "      <td>spark-application-1682634844485</td>\n",
       "    </tr>\n",
       "  </tbody>\n",
       "</table>\n",
       "</div>"
      ],
      "text/plain": [
       "          made_current_at operation          snapshot_id  is_current_ancestor  \\\n",
       "0 2023-04-27 22:34:53.810    append  6887654183493915966                 True   \n",
       "\n",
       "             summary[spark.app.id]  \n",
       "0  spark-application-1682634844485  "
      ]
     },
     "execution_count": 21,
     "metadata": {},
     "output_type": "execute_result"
    }
   ],
   "source": [
    "spark.sql(QUERY).toPandas()"
   ]
  },
  {
   "cell_type": "markdown",
   "id": "557db97a-4cba-4ee7-b1f6-2b4f84d0c3db",
   "metadata": {},
   "source": [
    "![alt text](../img/s3_data_1.png)"
   ]
  },
  {
   "cell_type": "markdown",
   "id": "316047e4-8ae2-4327-b5aa-ad39f9232415",
   "metadata": {},
   "source": [
    "![alt text](../img/s3_data_2.png)"
   ]
  },
  {
   "cell_type": "markdown",
   "id": "0a78f144-5617-4533-ab03-af69b857fd8c",
   "metadata": {},
   "source": [
    "#### Show all of the table’s data files and each file’s metadata."
   ]
  },
  {
   "cell_type": "markdown",
   "id": "3728c7dc-ac75-4859-8790-501210b43381",
   "metadata": {},
   "source": [
    "#### Notice there are now two json files and two avro files. "
   ]
  },
  {
   "cell_type": "markdown",
   "id": "e44f25b0-3aea-4b67-a5e5-bed3bf2b6a9d",
   "metadata": {},
   "source": [
    "The second json file reflects the new table version after the insert. Now, a new table read operation will point to this new file and ignore the previous one."
   ]
  },
  {
   "cell_type": "markdown",
   "id": "6f46899f-2ecd-4651-9dcf-7e6c4d912273",
   "metadata": {},
   "source": [
    "The avro file with the \"snap\" prefix is the manifest list. The other avro file created is the corresponding manifest file."
   ]
  },
  {
   "cell_type": "code",
   "execution_count": 22,
   "id": "8968ed18-4759-4cf0-9e18-98f537517a37",
   "metadata": {},
   "outputs": [
    {
     "name": "stdout",
     "output_type": "stream",
     "text": [
      "warehouse/tablespace/external/hive/lakehouse_catalog.db/customers_table/metadata/00000-29b2d826-3800-4e48-a79b-78faf446c956.metadata.json\n",
      "\n",
      "warehouse/tablespace/external/hive/lakehouse_catalog.db/customers_table/metadata/00001-523fe7c1-2e41-4466-a883-a91e5e910729.metadata.json\n",
      "\n",
      "warehouse/tablespace/external/hive/lakehouse_catalog.db/customers_table/metadata/7a1a260d-99b5-4e22-b1d3-6da99f76c5f2-m0.avro\n",
      "\n",
      "warehouse/tablespace/external/hive/lakehouse_catalog.db/customers_table/metadata/snap-6887654183493915966-1-7a1a260d-99b5-4e22-b1d3-6da99f76c5f2.avro\n",
      "\n"
     ]
    }
   ],
   "source": [
    "s3 = boto3.resource('s3')\n",
    "my_bucket = s3.Bucket(\"go01-demo\")\n",
    "\n",
    "metadata_file_list = []\n",
    "\n",
    "for object_summary in my_bucket.objects.filter(Prefix=\"warehouse/tablespace/external/hive/lakehouse_catalog.db/customers_table/metadata\"):\n",
    "    print(object_summary.key +\"\\n\")\n",
    "    metadata_file_list.append(object_summary.key)"
   ]
  },
  {
   "cell_type": "code",
   "execution_count": 23,
   "id": "022b7b8d-ec5e-4e7a-8f96-fa9929dd4c1b",
   "metadata": {},
   "outputs": [
    {
     "data": {
      "text/plain": [
       "['warehouse/tablespace/external/hive/lakehouse_catalog.db/customers_table/metadata/00000-29b2d826-3800-4e48-a79b-78faf446c956.metadata.json',\n",
       " 'warehouse/tablespace/external/hive/lakehouse_catalog.db/customers_table/metadata/00001-523fe7c1-2e41-4466-a883-a91e5e910729.metadata.json',\n",
       " 'warehouse/tablespace/external/hive/lakehouse_catalog.db/customers_table/metadata/7a1a260d-99b5-4e22-b1d3-6da99f76c5f2-m0.avro',\n",
       " 'warehouse/tablespace/external/hive/lakehouse_catalog.db/customers_table/metadata/snap-6887654183493915966-1-7a1a260d-99b5-4e22-b1d3-6da99f76c5f2.avro']"
      ]
     },
     "execution_count": 23,
     "metadata": {},
     "output_type": "execute_result"
    }
   ],
   "source": [
    "metadata_file_list"
   ]
  },
  {
   "cell_type": "markdown",
   "id": "79f44c26-c842-4843-a126-2f96df9b4496",
   "metadata": {},
   "source": [
    "Showing Metadata Files (JSON)"
   ]
  },
  {
   "cell_type": "code",
   "execution_count": 24,
   "id": "7cb383ed-5604-4d35-a525-bd7fb3501c80",
   "metadata": {},
   "outputs": [
    {
     "name": "stdout",
     "output_type": "stream",
     "text": [
      "Showing warehouse/tablespace/external/hive/lakehouse_catalog.db/customers_table/metadata/00000-29b2d826-3800-4e48-a79b-78faf446c956.metadata.json\n"
     ]
    },
    {
     "name": "stderr",
     "output_type": "stream",
     "text": [
      "                                                                                \r"
     ]
    },
    {
     "data": {
      "text/html": [
       "<div>\n",
       "<style scoped>\n",
       "    .dataframe tbody tr th:only-of-type {\n",
       "        vertical-align: middle;\n",
       "    }\n",
       "\n",
       "    .dataframe tbody tr th {\n",
       "        vertical-align: top;\n",
       "    }\n",
       "\n",
       "    .dataframe thead th {\n",
       "        text-align: right;\n",
       "    }\n",
       "</style>\n",
       "<table border=\"1\" class=\"dataframe\">\n",
       "  <thead>\n",
       "    <tr style=\"text-align: right;\">\n",
       "      <th></th>\n",
       "      <th>current-schema-id</th>\n",
       "      <th>current-snapshot-id</th>\n",
       "      <th>default-sort-order-id</th>\n",
       "      <th>default-spec-id</th>\n",
       "      <th>format-version</th>\n",
       "      <th>last-column-id</th>\n",
       "      <th>last-partition-id</th>\n",
       "      <th>last-updated-ms</th>\n",
       "      <th>location</th>\n",
       "      <th>metadata-log</th>\n",
       "      <th>partition-spec</th>\n",
       "      <th>partition-specs</th>\n",
       "      <th>properties</th>\n",
       "      <th>schema</th>\n",
       "      <th>schemas</th>\n",
       "      <th>snapshot-log</th>\n",
       "      <th>snapshots</th>\n",
       "      <th>sort-orders</th>\n",
       "      <th>table-uuid</th>\n",
       "    </tr>\n",
       "  </thead>\n",
       "  <tbody>\n",
       "    <tr>\n",
       "      <th>0</th>\n",
       "      <td>0</td>\n",
       "      <td>-1</td>\n",
       "      <td>0</td>\n",
       "      <td>0</td>\n",
       "      <td>1</td>\n",
       "      <td>4</td>\n",
       "      <td>1000</td>\n",
       "      <td>1682634884957</td>\n",
       "      <td>s3a://go01-demo/warehouse/tablespace/external/...</td>\n",
       "      <td>[]</td>\n",
       "      <td>[(1000, dob_hour, 4, hour)]</td>\n",
       "      <td>[([Row(field-id=1000, name='dob_hour', source-...</td>\n",
       "      <td>(pauldefusco,)</td>\n",
       "      <td>([(1, id, False, long), (2, state, False, stri...</td>\n",
       "      <td>[([Row(id=1, name='id', required=False, type='...</td>\n",
       "      <td>[]</td>\n",
       "      <td>[]</td>\n",
       "      <td>[([], 0)]</td>\n",
       "      <td>40c6c008-a95c-4471-bc69-4c2a805ae6ed</td>\n",
       "    </tr>\n",
       "  </tbody>\n",
       "</table>\n",
       "</div>"
      ],
      "text/plain": [
       "   current-schema-id  current-snapshot-id  default-sort-order-id  \\\n",
       "0                  0                   -1                      0   \n",
       "\n",
       "   default-spec-id  format-version  last-column-id  last-partition-id  \\\n",
       "0                0               1               4               1000   \n",
       "\n",
       "   last-updated-ms                                           location  \\\n",
       "0    1682634884957  s3a://go01-demo/warehouse/tablespace/external/...   \n",
       "\n",
       "  metadata-log               partition-spec  \\\n",
       "0           []  [(1000, dob_hour, 4, hour)]   \n",
       "\n",
       "                                     partition-specs      properties  \\\n",
       "0  [([Row(field-id=1000, name='dob_hour', source-...  (pauldefusco,)   \n",
       "\n",
       "                                              schema  \\\n",
       "0  ([(1, id, False, long), (2, state, False, stri...   \n",
       "\n",
       "                                             schemas snapshot-log snapshots  \\\n",
       "0  [([Row(id=1, name='id', required=False, type='...           []        []   \n",
       "\n",
       "  sort-orders                            table-uuid  \n",
       "0   [([], 0)]  40c6c008-a95c-4471-bc69-4c2a805ae6ed  "
      ]
     },
     "execution_count": 24,
     "metadata": {},
     "output_type": "execute_result"
    }
   ],
   "source": [
    "import pandas as pd\n",
    "\n",
    "print(\"Showing \" + metadata_file_list[0])\n",
    "spark.read.option(\"multiline\",\"true\").json(\"s3a://go01-demo/\" + metadata_file_list[0]).toPandas()"
   ]
  },
  {
   "cell_type": "code",
   "execution_count": 25,
   "id": "77983734-5f46-41bc-892e-9295ca6bb6b9",
   "metadata": {},
   "outputs": [
    {
     "name": "stdout",
     "output_type": "stream",
     "text": [
      "Showing warehouse/tablespace/external/hive/lakehouse_catalog.db/customers_table/metadata/00001-523fe7c1-2e41-4466-a883-a91e5e910729.metadata.json\n"
     ]
    },
    {
     "data": {
      "text/html": [
       "<div>\n",
       "<style scoped>\n",
       "    .dataframe tbody tr th:only-of-type {\n",
       "        vertical-align: middle;\n",
       "    }\n",
       "\n",
       "    .dataframe tbody tr th {\n",
       "        vertical-align: top;\n",
       "    }\n",
       "\n",
       "    .dataframe thead th {\n",
       "        text-align: right;\n",
       "    }\n",
       "</style>\n",
       "<table border=\"1\" class=\"dataframe\">\n",
       "  <thead>\n",
       "    <tr style=\"text-align: right;\">\n",
       "      <th></th>\n",
       "      <th>current-schema-id</th>\n",
       "      <th>current-snapshot-id</th>\n",
       "      <th>default-sort-order-id</th>\n",
       "      <th>default-spec-id</th>\n",
       "      <th>format-version</th>\n",
       "      <th>last-column-id</th>\n",
       "      <th>last-partition-id</th>\n",
       "      <th>last-updated-ms</th>\n",
       "      <th>location</th>\n",
       "      <th>metadata-log</th>\n",
       "      <th>partition-spec</th>\n",
       "      <th>partition-specs</th>\n",
       "      <th>properties</th>\n",
       "      <th>refs</th>\n",
       "      <th>schema</th>\n",
       "      <th>schemas</th>\n",
       "      <th>snapshot-log</th>\n",
       "      <th>snapshots</th>\n",
       "      <th>sort-orders</th>\n",
       "      <th>table-uuid</th>\n",
       "    </tr>\n",
       "  </thead>\n",
       "  <tbody>\n",
       "    <tr>\n",
       "      <th>0</th>\n",
       "      <td>0</td>\n",
       "      <td>6887654183493915966</td>\n",
       "      <td>0</td>\n",
       "      <td>0</td>\n",
       "      <td>1</td>\n",
       "      <td>4</td>\n",
       "      <td>1000</td>\n",
       "      <td>1682634893810</td>\n",
       "      <td>s3a://go01-demo/warehouse/tablespace/external/...</td>\n",
       "      <td>[(s3a://go01-demo/warehouse/tablespace/externa...</td>\n",
       "      <td>[(1000, dob_hour, 4, hour)]</td>\n",
       "      <td>[([Row(field-id=1000, name='dob_hour', source-...</td>\n",
       "      <td>(pauldefusco,)</td>\n",
       "      <td>((6887654183493915966, branch),)</td>\n",
       "      <td>([(1, id, False, long), (2, state, False, stri...</td>\n",
       "      <td>[([Row(id=1, name='id', required=False, type='...</td>\n",
       "      <td>[(6887654183493915966, 1682634893810)]</td>\n",
       "      <td>[(s3a://go01-demo/warehouse/tablespace/externa...</td>\n",
       "      <td>[([], 0)]</td>\n",
       "      <td>40c6c008-a95c-4471-bc69-4c2a805ae6ed</td>\n",
       "    </tr>\n",
       "  </tbody>\n",
       "</table>\n",
       "</div>"
      ],
      "text/plain": [
       "   current-schema-id  current-snapshot-id  default-sort-order-id  \\\n",
       "0                  0  6887654183493915966                      0   \n",
       "\n",
       "   default-spec-id  format-version  last-column-id  last-partition-id  \\\n",
       "0                0               1               4               1000   \n",
       "\n",
       "   last-updated-ms                                           location  \\\n",
       "0    1682634893810  s3a://go01-demo/warehouse/tablespace/external/...   \n",
       "\n",
       "                                        metadata-log  \\\n",
       "0  [(s3a://go01-demo/warehouse/tablespace/externa...   \n",
       "\n",
       "                partition-spec  \\\n",
       "0  [(1000, dob_hour, 4, hour)]   \n",
       "\n",
       "                                     partition-specs      properties  \\\n",
       "0  [([Row(field-id=1000, name='dob_hour', source-...  (pauldefusco,)   \n",
       "\n",
       "                               refs  \\\n",
       "0  ((6887654183493915966, branch),)   \n",
       "\n",
       "                                              schema  \\\n",
       "0  ([(1, id, False, long), (2, state, False, stri...   \n",
       "\n",
       "                                             schemas  \\\n",
       "0  [([Row(id=1, name='id', required=False, type='...   \n",
       "\n",
       "                             snapshot-log  \\\n",
       "0  [(6887654183493915966, 1682634893810)]   \n",
       "\n",
       "                                           snapshots sort-orders  \\\n",
       "0  [(s3a://go01-demo/warehouse/tablespace/externa...   [([], 0)]   \n",
       "\n",
       "                             table-uuid  \n",
       "0  40c6c008-a95c-4471-bc69-4c2a805ae6ed  "
      ]
     },
     "execution_count": 25,
     "metadata": {},
     "output_type": "execute_result"
    }
   ],
   "source": [
    "print(\"Showing \" + metadata_file_list[1])\n",
    "spark.read.option(\"multiline\",\"true\").json(\"s3a://go01-demo/\" + metadata_file_list[1]).toPandas()"
   ]
  },
  {
   "cell_type": "markdown",
   "id": "833c5078-51ca-4d2b-a877-344197cee888",
   "metadata": {},
   "source": [
    "Showing Manifest Lists (AVRO - prefixed by \"SNAP\")"
   ]
  },
  {
   "cell_type": "code",
   "execution_count": 26,
   "id": "1eb30215-5e39-429d-b0a7-6284c2b25a1d",
   "metadata": {},
   "outputs": [
    {
     "name": "stdout",
     "output_type": "stream",
     "text": [
      "Showing warehouse/tablespace/external/hive/lakehouse_catalog.db/customers_table/metadata/snap-6887654183493915966-1-7a1a260d-99b5-4e22-b1d3-6da99f76c5f2.avro\n"
     ]
    },
    {
     "name": "stderr",
     "output_type": "stream",
     "text": [
      "                                                                                \r"
     ]
    },
    {
     "data": {
      "text/html": [
       "<div>\n",
       "<style scoped>\n",
       "    .dataframe tbody tr th:only-of-type {\n",
       "        vertical-align: middle;\n",
       "    }\n",
       "\n",
       "    .dataframe tbody tr th {\n",
       "        vertical-align: top;\n",
       "    }\n",
       "\n",
       "    .dataframe thead th {\n",
       "        text-align: right;\n",
       "    }\n",
       "</style>\n",
       "<table border=\"1\" class=\"dataframe\">\n",
       "  <thead>\n",
       "    <tr style=\"text-align: right;\">\n",
       "      <th></th>\n",
       "      <th>manifest_path</th>\n",
       "      <th>manifest_length</th>\n",
       "      <th>partition_spec_id</th>\n",
       "      <th>added_snapshot_id</th>\n",
       "      <th>added_data_files_count</th>\n",
       "      <th>existing_data_files_count</th>\n",
       "      <th>deleted_data_files_count</th>\n",
       "      <th>partitions</th>\n",
       "      <th>added_rows_count</th>\n",
       "      <th>existing_rows_count</th>\n",
       "      <th>deleted_rows_count</th>\n",
       "    </tr>\n",
       "  </thead>\n",
       "  <tbody>\n",
       "    <tr>\n",
       "      <th>0</th>\n",
       "      <td>s3a://go01-demo/warehouse/tablespace/external/...</td>\n",
       "      <td>6192</td>\n",
       "      <td>0</td>\n",
       "      <td>6887654183493915966</td>\n",
       "      <td>1</td>\n",
       "      <td>0</td>\n",
       "      <td>0</td>\n",
       "      <td>[(False, False, [56, 3, 4, 0], [56, 3, 4, 0])]</td>\n",
       "      <td>1</td>\n",
       "      <td>0</td>\n",
       "      <td>0</td>\n",
       "    </tr>\n",
       "  </tbody>\n",
       "</table>\n",
       "</div>"
      ],
      "text/plain": [
       "                                       manifest_path  manifest_length  \\\n",
       "0  s3a://go01-demo/warehouse/tablespace/external/...             6192   \n",
       "\n",
       "   partition_spec_id    added_snapshot_id  added_data_files_count  \\\n",
       "0                  0  6887654183493915966                       1   \n",
       "\n",
       "   existing_data_files_count  deleted_data_files_count  \\\n",
       "0                          0                         0   \n",
       "\n",
       "                                       partitions  added_rows_count  \\\n",
       "0  [(False, False, [56, 3, 4, 0], [56, 3, 4, 0])]                 1   \n",
       "\n",
       "   existing_rows_count  deleted_rows_count  \n",
       "0                    0                   0  "
      ]
     },
     "execution_count": 26,
     "metadata": {},
     "output_type": "execute_result"
    }
   ],
   "source": [
    "print(\"Showing \" + metadata_file_list[3])\n",
    "spark.read.format(\"avro\").load(\"s3a://go01-demo/\" + metadata_file_list[3]).toPandas()"
   ]
  },
  {
   "cell_type": "markdown",
   "id": "1f050bd1-b1a6-4b1e-9e19-76d8abc1cdd3",
   "metadata": {},
   "source": [
    "Showing Manifest Files (Avro) i.e. list of table partitions mapped to snapshot ID"
   ]
  },
  {
   "cell_type": "code",
   "execution_count": 27,
   "id": "f09c777a-d717-4c8c-a098-eca4972e0f44",
   "metadata": {},
   "outputs": [
    {
     "name": "stdout",
     "output_type": "stream",
     "text": [
      "Showing warehouse/tablespace/external/hive/lakehouse_catalog.db/customers_table/metadata/7a1a260d-99b5-4e22-b1d3-6da99f76c5f2-m0.avro\n"
     ]
    },
    {
     "name": "stderr",
     "output_type": "stream",
     "text": [
      "                                                                                \r"
     ]
    },
    {
     "data": {
      "text/html": [
       "<div>\n",
       "<style scoped>\n",
       "    .dataframe tbody tr th:only-of-type {\n",
       "        vertical-align: middle;\n",
       "    }\n",
       "\n",
       "    .dataframe tbody tr th {\n",
       "        vertical-align: top;\n",
       "    }\n",
       "\n",
       "    .dataframe thead th {\n",
       "        text-align: right;\n",
       "    }\n",
       "</style>\n",
       "<table border=\"1\" class=\"dataframe\">\n",
       "  <thead>\n",
       "    <tr style=\"text-align: right;\">\n",
       "      <th></th>\n",
       "      <th>status</th>\n",
       "      <th>snapshot_id</th>\n",
       "      <th>data_file</th>\n",
       "    </tr>\n",
       "  </thead>\n",
       "  <tbody>\n",
       "    <tr>\n",
       "      <th>0</th>\n",
       "      <td>1</td>\n",
       "      <td>6887654183493915966</td>\n",
       "      <td>(s3a://go01-demo/warehouse/tablespace/external...</td>\n",
       "    </tr>\n",
       "  </tbody>\n",
       "</table>\n",
       "</div>"
      ],
      "text/plain": [
       "   status          snapshot_id  \\\n",
       "0       1  6887654183493915966   \n",
       "\n",
       "                                           data_file  \n",
       "0  (s3a://go01-demo/warehouse/tablespace/external...  "
      ]
     },
     "execution_count": 27,
     "metadata": {},
     "output_type": "execute_result"
    }
   ],
   "source": [
    "print(\"Showing \" + metadata_file_list[2])\n",
    "spark.read.format(\"avro\").load(\"s3a://go01-demo/\" + metadata_file_list[2]).toPandas()"
   ]
  },
  {
   "cell_type": "markdown",
   "id": "f023c1ca-48c8-4d4d-b329-4825d473bf4b",
   "metadata": {},
   "source": [
    "### Table Update"
   ]
  },
  {
   "cell_type": "markdown",
   "id": "96bef6e0-6ea1-4f75-aeac-fd84b0b7f2f7",
   "metadata": {},
   "source": [
    "Create a staging table"
   ]
  },
  {
   "cell_type": "code",
   "execution_count": 28,
   "id": "a8287cfa-9f8e-40fb-a880-a2dabcdbd2ae",
   "metadata": {},
   "outputs": [
    {
     "data": {
      "text/plain": [
       "DataFrame[]"
      ]
     },
     "execution_count": 28,
     "metadata": {},
     "output_type": "execute_result"
    }
   ],
   "source": [
    "spark.sql(\"DROP TABLE IF EXISTS lakehouse_catalog.staging\")"
   ]
  },
  {
   "cell_type": "code",
   "execution_count": 29,
   "id": "1a742c99-a211-4fa6-bdd5-e63f8079f9d0",
   "metadata": {},
   "outputs": [
    {
     "data": {
      "text/plain": [
       "DataFrame[]"
      ]
     },
     "execution_count": 29,
     "metadata": {},
     "output_type": "execute_result"
    }
   ],
   "source": [
    "spark.sql(\"CREATE TABLE IF NOT EXISTS lakehouse_catalog.staging\\\n",
    "            (id BIGINT, state STRING, country STRING, dob TIMESTAMP)\\\n",
    "            USING iceberg\\\n",
    "            PARTITIONED BY ( hours(dob))\")"
   ]
  },
  {
   "cell_type": "code",
   "execution_count": 30,
   "id": "d4dc4207-34e0-4bb3-a147-dfcd4e601990",
   "metadata": {},
   "outputs": [
    {
     "name": "stderr",
     "output_type": "stream",
     "text": [
      "                                                                                \r"
     ]
    },
    {
     "data": {
      "text/plain": [
       "DataFrame[]"
      ]
     },
     "execution_count": 30,
     "metadata": {},
     "output_type": "execute_result"
    }
   ],
   "source": [
    "spark.sql(\"INSERT INTO lakehouse_catalog.staging\\\n",
    "            VALUES (1, 'ID', 'USA', cast(date_format('2000-01-01 00:00:00', 'yyyy-MM-dd HH:mm:ss') as timestamp)),\\\n",
    "            (2, 'CA', 'USA', cast(date_format('2000-01-03 00:10:00', 'yyyy-MM-dd HH:mm:ss') as timestamp)),\\\n",
    "            (3, 'AZ', 'USA', cast(date_format('2000-01-04 00:01:00', 'yyyy-MM-dd HH:mm:ss') as timestamp)),\\\n",
    "            (4, 'NV', 'USA', cast(date_format('2000-01-02 00:02:00', 'yyyy-MM-dd HH:mm:ss') as timestamp)),\\\n",
    "            (5, 'OR', 'USA', cast(date_format('2000-01-03 00:03:00', 'yyyy-MM-dd HH:mm:ss') as timestamp)),\\\n",
    "            (10, 'WA', 'USA', cast(date_format('2000-01-04 00:03:00', 'yyyy-MM-dd HH:mm:ss') as timestamp)),\\\n",
    "            (3, 'UT', 'USA', cast(date_format('2000-01-01 00:04:00', 'yyyy-MM-dd HH:mm:ss') as timestamp)),\\\n",
    "            (11, 'CO', 'USA', cast(date_format('2000-01-01 00:03:00', 'yyyy-MM-dd HH:mm:ss') as timestamp)),\\\n",
    "            (6, 'CO', 'USA', cast(date_format('2000-01-01 00:03:00', 'yyyy-MM-dd HH:mm:ss') as timestamp))\")"
   ]
  },
  {
   "cell_type": "markdown",
   "id": "99c3720c-3011-4a15-924f-de39a525501d",
   "metadata": {},
   "source": [
    "Merge Into Customers Table"
   ]
  },
  {
   "cell_type": "code",
   "execution_count": 31,
   "id": "4b62e634-935e-4219-b240-fdb8411b2984",
   "metadata": {},
   "outputs": [
    {
     "name": "stderr",
     "output_type": "stream",
     "text": [
      "                                                                                \r"
     ]
    },
    {
     "data": {
      "text/plain": [
       "DataFrame[]"
      ]
     },
     "execution_count": 31,
     "metadata": {},
     "output_type": "execute_result"
    }
   ],
   "source": [
    "spark.sql(\"MERGE INTO lakehouse_catalog.customers_table\\\n",
    "            USING (SELECT * FROM lakehouse_catalog.staging) a\\\n",
    "            ON customers_table.id = a.id\\\n",
    "            WHEN MATCHED THEN UPDATE SET customers_table.state = a.state\\\n",
    "            WHEN NOT MATCHED THEN INSERT *\")"
   ]
  },
  {
   "cell_type": "code",
   "execution_count": 32,
   "id": "c94305e6-c808-4d67-8903-864a4d80b5dc",
   "metadata": {},
   "outputs": [
    {
     "data": {
      "text/html": [
       "<div>\n",
       "<style scoped>\n",
       "    .dataframe tbody tr th:only-of-type {\n",
       "        vertical-align: middle;\n",
       "    }\n",
       "\n",
       "    .dataframe tbody tr th {\n",
       "        vertical-align: top;\n",
       "    }\n",
       "\n",
       "    .dataframe thead th {\n",
       "        text-align: right;\n",
       "    }\n",
       "</style>\n",
       "<table border=\"1\" class=\"dataframe\">\n",
       "  <thead>\n",
       "    <tr style=\"text-align: right;\">\n",
       "      <th></th>\n",
       "      <th>committed_at</th>\n",
       "      <th>snapshot_id</th>\n",
       "      <th>parent_id</th>\n",
       "      <th>operation</th>\n",
       "      <th>manifest_list</th>\n",
       "      <th>summary</th>\n",
       "    </tr>\n",
       "  </thead>\n",
       "  <tbody>\n",
       "    <tr>\n",
       "      <th>0</th>\n",
       "      <td>2023-04-27 22:34:53.810</td>\n",
       "      <td>6887654183493915966</td>\n",
       "      <td>NaN</td>\n",
       "      <td>append</td>\n",
       "      <td>s3a://go01-demo/warehouse/tablespace/external/...</td>\n",
       "      <td>{'spark.app.id': 'spark-application-1682634844...</td>\n",
       "    </tr>\n",
       "    <tr>\n",
       "      <th>1</th>\n",
       "      <td>2023-04-27 22:35:23.955</td>\n",
       "      <td>4263374782247318559</td>\n",
       "      <td>6.887654e+18</td>\n",
       "      <td>overwrite</td>\n",
       "      <td>s3a://go01-demo/warehouse/tablespace/external/...</td>\n",
       "      <td>{'added-data-files': '4', 'total-equality-dele...</td>\n",
       "    </tr>\n",
       "  </tbody>\n",
       "</table>\n",
       "</div>"
      ],
      "text/plain": [
       "             committed_at          snapshot_id     parent_id  operation  \\\n",
       "0 2023-04-27 22:34:53.810  6887654183493915966           NaN     append   \n",
       "1 2023-04-27 22:35:23.955  4263374782247318559  6.887654e+18  overwrite   \n",
       "\n",
       "                                       manifest_list  \\\n",
       "0  s3a://go01-demo/warehouse/tablespace/external/...   \n",
       "1  s3a://go01-demo/warehouse/tablespace/external/...   \n",
       "\n",
       "                                             summary  \n",
       "0  {'spark.app.id': 'spark-application-1682634844...  \n",
       "1  {'added-data-files': '4', 'total-equality-dele...  "
      ]
     },
     "execution_count": 32,
     "metadata": {},
     "output_type": "execute_result"
    }
   ],
   "source": [
    "spark.sql(\"SELECT * FROM lakehouse_catalog.customers_table.snapshots;\").toPandas()"
   ]
  },
  {
   "cell_type": "code",
   "execution_count": 33,
   "id": "2d2d2db3-6d38-428e-bc8d-51286ff2e11c",
   "metadata": {},
   "outputs": [
    {
     "data": {
      "text/html": [
       "<div>\n",
       "<style scoped>\n",
       "    .dataframe tbody tr th:only-of-type {\n",
       "        vertical-align: middle;\n",
       "    }\n",
       "\n",
       "    .dataframe tbody tr th {\n",
       "        vertical-align: top;\n",
       "    }\n",
       "\n",
       "    .dataframe thead th {\n",
       "        text-align: right;\n",
       "    }\n",
       "</style>\n",
       "<table border=\"1\" class=\"dataframe\">\n",
       "  <thead>\n",
       "    <tr style=\"text-align: right;\">\n",
       "      <th></th>\n",
       "      <th>content</th>\n",
       "      <th>path</th>\n",
       "      <th>length</th>\n",
       "      <th>partition_spec_id</th>\n",
       "      <th>added_snapshot_id</th>\n",
       "      <th>added_data_files_count</th>\n",
       "      <th>existing_data_files_count</th>\n",
       "      <th>deleted_data_files_count</th>\n",
       "      <th>added_delete_files_count</th>\n",
       "      <th>existing_delete_files_count</th>\n",
       "      <th>deleted_delete_files_count</th>\n",
       "      <th>partition_summaries</th>\n",
       "    </tr>\n",
       "  </thead>\n",
       "  <tbody>\n",
       "    <tr>\n",
       "      <th>0</th>\n",
       "      <td>0</td>\n",
       "      <td>s3a://go01-demo/warehouse/tablespace/external/...</td>\n",
       "      <td>6373</td>\n",
       "      <td>0</td>\n",
       "      <td>4263374782247318559</td>\n",
       "      <td>4</td>\n",
       "      <td>0</td>\n",
       "      <td>0</td>\n",
       "      <td>0</td>\n",
       "      <td>0</td>\n",
       "      <td>0</td>\n",
       "      <td>[(False, False, 2000-01-01-00, 2000-01-04-00)]</td>\n",
       "    </tr>\n",
       "    <tr>\n",
       "      <th>1</th>\n",
       "      <td>0</td>\n",
       "      <td>s3a://go01-demo/warehouse/tablespace/external/...</td>\n",
       "      <td>6193</td>\n",
       "      <td>0</td>\n",
       "      <td>4263374782247318559</td>\n",
       "      <td>0</td>\n",
       "      <td>0</td>\n",
       "      <td>1</td>\n",
       "      <td>0</td>\n",
       "      <td>0</td>\n",
       "      <td>0</td>\n",
       "      <td>[(False, False, 2000-01-01-00, 2000-01-01-00)]</td>\n",
       "    </tr>\n",
       "  </tbody>\n",
       "</table>\n",
       "</div>"
      ],
      "text/plain": [
       "   content                                               path  length  \\\n",
       "0        0  s3a://go01-demo/warehouse/tablespace/external/...    6373   \n",
       "1        0  s3a://go01-demo/warehouse/tablespace/external/...    6193   \n",
       "\n",
       "   partition_spec_id    added_snapshot_id  added_data_files_count  \\\n",
       "0                  0  4263374782247318559                       4   \n",
       "1                  0  4263374782247318559                       0   \n",
       "\n",
       "   existing_data_files_count  deleted_data_files_count  \\\n",
       "0                          0                         0   \n",
       "1                          0                         1   \n",
       "\n",
       "   added_delete_files_count  existing_delete_files_count  \\\n",
       "0                         0                            0   \n",
       "1                         0                            0   \n",
       "\n",
       "   deleted_delete_files_count                             partition_summaries  \n",
       "0                           0  [(False, False, 2000-01-01-00, 2000-01-04-00)]  \n",
       "1                           0  [(False, False, 2000-01-01-00, 2000-01-01-00)]  "
      ]
     },
     "execution_count": 33,
     "metadata": {},
     "output_type": "execute_result"
    }
   ],
   "source": [
    "spark.sql(\"SELECT * FROM lakehouse_catalog.customers_table.manifests;\").toPandas()"
   ]
  },
  {
   "cell_type": "code",
   "execution_count": 34,
   "id": "db59e20d-b4fa-455c-8a34-b5538d06b2ae",
   "metadata": {},
   "outputs": [
    {
     "name": "stderr",
     "output_type": "stream",
     "text": [
      "                                                                                \r"
     ]
    },
    {
     "data": {
      "text/html": [
       "<div>\n",
       "<style scoped>\n",
       "    .dataframe tbody tr th:only-of-type {\n",
       "        vertical-align: middle;\n",
       "    }\n",
       "\n",
       "    .dataframe tbody tr th {\n",
       "        vertical-align: top;\n",
       "    }\n",
       "\n",
       "    .dataframe thead th {\n",
       "        text-align: right;\n",
       "    }\n",
       "</style>\n",
       "<table border=\"1\" class=\"dataframe\">\n",
       "  <thead>\n",
       "    <tr style=\"text-align: right;\">\n",
       "      <th></th>\n",
       "      <th>content</th>\n",
       "      <th>file_path</th>\n",
       "      <th>file_format</th>\n",
       "      <th>spec_id</th>\n",
       "      <th>partition</th>\n",
       "      <th>record_count</th>\n",
       "      <th>file_size_in_bytes</th>\n",
       "      <th>column_sizes</th>\n",
       "      <th>value_counts</th>\n",
       "      <th>null_value_counts</th>\n",
       "      <th>nan_value_counts</th>\n",
       "      <th>lower_bounds</th>\n",
       "      <th>upper_bounds</th>\n",
       "      <th>key_metadata</th>\n",
       "      <th>split_offsets</th>\n",
       "      <th>equality_ids</th>\n",
       "      <th>sort_order_id</th>\n",
       "    </tr>\n",
       "  </thead>\n",
       "  <tbody>\n",
       "    <tr>\n",
       "      <th>0</th>\n",
       "      <td>0</td>\n",
       "      <td>s3a://go01-demo/warehouse/tablespace/external/...</td>\n",
       "      <td>PARQUET</td>\n",
       "      <td>0</td>\n",
       "      <td>(262968,)</td>\n",
       "      <td>4</td>\n",
       "      <td>1277</td>\n",
       "      <td>{1: 57, 2: 74, 3: 61, 4: 80}</td>\n",
       "      <td>{1: 4, 2: 4, 3: 4, 4: 4}</td>\n",
       "      <td>{1: 0, 2: 0, 3: 0, 4: 0}</td>\n",
       "      <td>{}</td>\n",
       "      <td>{1: [1, 0, 0, 0, 0, 0, 0, 0], 2: [67, 79], 3: ...</td>\n",
       "      <td>{1: [11, 0, 0, 0, 0, 0, 0, 0], 2: [85, 84], 3:...</td>\n",
       "      <td>None</td>\n",
       "      <td>[4]</td>\n",
       "      <td>None</td>\n",
       "      <td>0</td>\n",
       "    </tr>\n",
       "    <tr>\n",
       "      <th>1</th>\n",
       "      <td>0</td>\n",
       "      <td>s3a://go01-demo/warehouse/tablespace/external/...</td>\n",
       "      <td>PARQUET</td>\n",
       "      <td>0</td>\n",
       "      <td>(262992,)</td>\n",
       "      <td>1</td>\n",
       "      <td>1130</td>\n",
       "      <td>{1: 39, 2: 37, 3: 38, 4: 39}</td>\n",
       "      <td>{1: 1, 2: 1, 3: 1, 4: 1}</td>\n",
       "      <td>{1: 0, 2: 0, 3: 0, 4: 0}</td>\n",
       "      <td>{}</td>\n",
       "      <td>{1: [4, 0, 0, 0, 0, 0, 0, 0], 2: [78, 86], 3: ...</td>\n",
       "      <td>{1: [4, 0, 0, 0, 0, 0, 0, 0], 2: [78, 86], 3: ...</td>\n",
       "      <td>None</td>\n",
       "      <td>[4]</td>\n",
       "      <td>None</td>\n",
       "      <td>0</td>\n",
       "    </tr>\n",
       "    <tr>\n",
       "      <th>2</th>\n",
       "      <td>0</td>\n",
       "      <td>s3a://go01-demo/warehouse/tablespace/external/...</td>\n",
       "      <td>PARQUET</td>\n",
       "      <td>0</td>\n",
       "      <td>(263016,)</td>\n",
       "      <td>2</td>\n",
       "      <td>1176</td>\n",
       "      <td>{1: 46, 2: 43, 3: 61, 4: 47}</td>\n",
       "      <td>{1: 2, 2: 2, 3: 2, 4: 2}</td>\n",
       "      <td>{1: 0, 2: 0, 3: 0, 4: 0}</td>\n",
       "      <td>{}</td>\n",
       "      <td>{1: [2, 0, 0, 0, 0, 0, 0, 0], 2: [67, 65], 3: ...</td>\n",
       "      <td>{1: [5, 0, 0, 0, 0, 0, 0, 0], 2: [79, 82], 3: ...</td>\n",
       "      <td>None</td>\n",
       "      <td>[4]</td>\n",
       "      <td>None</td>\n",
       "      <td>0</td>\n",
       "    </tr>\n",
       "    <tr>\n",
       "      <th>3</th>\n",
       "      <td>0</td>\n",
       "      <td>s3a://go01-demo/warehouse/tablespace/external/...</td>\n",
       "      <td>PARQUET</td>\n",
       "      <td>0</td>\n",
       "      <td>(263040,)</td>\n",
       "      <td>2</td>\n",
       "      <td>1177</td>\n",
       "      <td>{1: 47, 2: 43, 3: 61, 4: 47}</td>\n",
       "      <td>{1: 2, 2: 2, 3: 2, 4: 2}</td>\n",
       "      <td>{1: 0, 2: 0, 3: 0, 4: 0}</td>\n",
       "      <td>{}</td>\n",
       "      <td>{1: [3, 0, 0, 0, 0, 0, 0, 0], 2: [65, 90], 3: ...</td>\n",
       "      <td>{1: [10, 0, 0, 0, 0, 0, 0, 0], 2: [87, 65], 3:...</td>\n",
       "      <td>None</td>\n",
       "      <td>[4]</td>\n",
       "      <td>None</td>\n",
       "      <td>0</td>\n",
       "    </tr>\n",
       "    <tr>\n",
       "      <th>4</th>\n",
       "      <td>0</td>\n",
       "      <td>s3a://go01-demo/warehouse/tablespace/external/...</td>\n",
       "      <td>PARQUET</td>\n",
       "      <td>0</td>\n",
       "      <td>(262968,)</td>\n",
       "      <td>1</td>\n",
       "      <td>1106</td>\n",
       "      <td>{1: 33, 2: 31, 3: 32, 4: 39}</td>\n",
       "      <td>{1: 1, 2: 1, 3: 1, 4: 1}</td>\n",
       "      <td>{1: 0, 2: 0, 3: 0, 4: 0}</td>\n",
       "      <td>{}</td>\n",
       "      <td>{1: [1, 0, 0, 0, 0, 0, 0, 0], 2: [67, 65], 3: ...</td>\n",
       "      <td>{1: [1, 0, 0, 0, 0, 0, 0, 0], 2: [67, 65], 3: ...</td>\n",
       "      <td>None</td>\n",
       "      <td>[4]</td>\n",
       "      <td>None</td>\n",
       "      <td>0</td>\n",
       "    </tr>\n",
       "  </tbody>\n",
       "</table>\n",
       "</div>"
      ],
      "text/plain": [
       "   content                                          file_path file_format  \\\n",
       "0        0  s3a://go01-demo/warehouse/tablespace/external/...     PARQUET   \n",
       "1        0  s3a://go01-demo/warehouse/tablespace/external/...     PARQUET   \n",
       "2        0  s3a://go01-demo/warehouse/tablespace/external/...     PARQUET   \n",
       "3        0  s3a://go01-demo/warehouse/tablespace/external/...     PARQUET   \n",
       "4        0  s3a://go01-demo/warehouse/tablespace/external/...     PARQUET   \n",
       "\n",
       "   spec_id  partition  record_count  file_size_in_bytes  \\\n",
       "0        0  (262968,)             4                1277   \n",
       "1        0  (262992,)             1                1130   \n",
       "2        0  (263016,)             2                1176   \n",
       "3        0  (263040,)             2                1177   \n",
       "4        0  (262968,)             1                1106   \n",
       "\n",
       "                   column_sizes              value_counts  \\\n",
       "0  {1: 57, 2: 74, 3: 61, 4: 80}  {1: 4, 2: 4, 3: 4, 4: 4}   \n",
       "1  {1: 39, 2: 37, 3: 38, 4: 39}  {1: 1, 2: 1, 3: 1, 4: 1}   \n",
       "2  {1: 46, 2: 43, 3: 61, 4: 47}  {1: 2, 2: 2, 3: 2, 4: 2}   \n",
       "3  {1: 47, 2: 43, 3: 61, 4: 47}  {1: 2, 2: 2, 3: 2, 4: 2}   \n",
       "4  {1: 33, 2: 31, 3: 32, 4: 39}  {1: 1, 2: 1, 3: 1, 4: 1}   \n",
       "\n",
       "          null_value_counts nan_value_counts  \\\n",
       "0  {1: 0, 2: 0, 3: 0, 4: 0}               {}   \n",
       "1  {1: 0, 2: 0, 3: 0, 4: 0}               {}   \n",
       "2  {1: 0, 2: 0, 3: 0, 4: 0}               {}   \n",
       "3  {1: 0, 2: 0, 3: 0, 4: 0}               {}   \n",
       "4  {1: 0, 2: 0, 3: 0, 4: 0}               {}   \n",
       "\n",
       "                                        lower_bounds  \\\n",
       "0  {1: [1, 0, 0, 0, 0, 0, 0, 0], 2: [67, 79], 3: ...   \n",
       "1  {1: [4, 0, 0, 0, 0, 0, 0, 0], 2: [78, 86], 3: ...   \n",
       "2  {1: [2, 0, 0, 0, 0, 0, 0, 0], 2: [67, 65], 3: ...   \n",
       "3  {1: [3, 0, 0, 0, 0, 0, 0, 0], 2: [65, 90], 3: ...   \n",
       "4  {1: [1, 0, 0, 0, 0, 0, 0, 0], 2: [67, 65], 3: ...   \n",
       "\n",
       "                                        upper_bounds key_metadata  \\\n",
       "0  {1: [11, 0, 0, 0, 0, 0, 0, 0], 2: [85, 84], 3:...         None   \n",
       "1  {1: [4, 0, 0, 0, 0, 0, 0, 0], 2: [78, 86], 3: ...         None   \n",
       "2  {1: [5, 0, 0, 0, 0, 0, 0, 0], 2: [79, 82], 3: ...         None   \n",
       "3  {1: [10, 0, 0, 0, 0, 0, 0, 0], 2: [87, 65], 3:...         None   \n",
       "4  {1: [1, 0, 0, 0, 0, 0, 0, 0], 2: [67, 65], 3: ...         None   \n",
       "\n",
       "  split_offsets equality_ids  sort_order_id  \n",
       "0           [4]         None              0  \n",
       "1           [4]         None              0  \n",
       "2           [4]         None              0  \n",
       "3           [4]         None              0  \n",
       "4           [4]         None              0  "
      ]
     },
     "execution_count": 34,
     "metadata": {},
     "output_type": "execute_result"
    }
   ],
   "source": [
    "spark.sql(\"SELECT * FROM lakehouse_catalog.customers_table.all_data_files;\").toPandas()"
   ]
  },
  {
   "cell_type": "markdown",
   "id": "f9486357-7744-4068-998c-7bb4a9edf5da",
   "metadata": {},
   "source": [
    "#### There is a new metadata file (json) prefixed by 0002."
   ]
  },
  {
   "cell_type": "markdown",
   "id": "9308c678-d334-4a0b-8b14-94c0164c9be5",
   "metadata": {},
   "source": [
    "#### There is a new manifest list file (avro) prefixed by \"snap\""
   ]
  },
  {
   "cell_type": "markdown",
   "id": "d1685d9f-422a-44dc-a969-e4e3d5b0718c",
   "metadata": {},
   "source": [
    "#### There is a new manifest file (avro)"
   ]
  },
  {
   "cell_type": "code",
   "execution_count": 35,
   "id": "91fd6085-7047-437b-9b5d-08a5a43dc13b",
   "metadata": {},
   "outputs": [
    {
     "name": "stdout",
     "output_type": "stream",
     "text": [
      "warehouse/tablespace/external/hive/lakehouse_catalog.db/customers_table/metadata/00000-29b2d826-3800-4e48-a79b-78faf446c956.metadata.json\n",
      "\n",
      "warehouse/tablespace/external/hive/lakehouse_catalog.db/customers_table/metadata/00001-523fe7c1-2e41-4466-a883-a91e5e910729.metadata.json\n",
      "\n",
      "warehouse/tablespace/external/hive/lakehouse_catalog.db/customers_table/metadata/00002-bcc08b11-bbad-4a48-9eb3-dfcf8226221d.metadata.json\n",
      "\n",
      "warehouse/tablespace/external/hive/lakehouse_catalog.db/customers_table/metadata/7a1a260d-99b5-4e22-b1d3-6da99f76c5f2-m0.avro\n",
      "\n",
      "warehouse/tablespace/external/hive/lakehouse_catalog.db/customers_table/metadata/c9cd5045-5a65-4a8a-9eab-27799c1f48a2-m0.avro\n",
      "\n",
      "warehouse/tablespace/external/hive/lakehouse_catalog.db/customers_table/metadata/c9cd5045-5a65-4a8a-9eab-27799c1f48a2-m1.avro\n",
      "\n",
      "warehouse/tablespace/external/hive/lakehouse_catalog.db/customers_table/metadata/snap-4263374782247318559-1-c9cd5045-5a65-4a8a-9eab-27799c1f48a2.avro\n",
      "\n",
      "warehouse/tablespace/external/hive/lakehouse_catalog.db/customers_table/metadata/snap-6887654183493915966-1-7a1a260d-99b5-4e22-b1d3-6da99f76c5f2.avro\n",
      "\n"
     ]
    }
   ],
   "source": [
    "s3 = boto3.resource('s3')\n",
    "my_bucket = s3.Bucket(\"go01-demo\")\n",
    "\n",
    "metadata_file_list = []\n",
    "\n",
    "for object_summary in my_bucket.objects.filter(Prefix=\"warehouse/tablespace/external/hive/lakehouse_catalog.db/customers_table/metadata\"):\n",
    "    print(object_summary.key +\"\\n\")\n",
    "    metadata_file_list.append(object_summary.key)"
   ]
  },
  {
   "cell_type": "markdown",
   "id": "29ae4a83-5c55-4ebc-a344-4363e9585ff3",
   "metadata": {},
   "source": [
    "Showing Metadata Files (JSON)"
   ]
  },
  {
   "cell_type": "code",
   "execution_count": 36,
   "id": "df26dc95-0c4b-419b-b561-3ca5242de499",
   "metadata": {},
   "outputs": [
    {
     "name": "stdout",
     "output_type": "stream",
     "text": [
      "Showing warehouse/tablespace/external/hive/lakehouse_catalog.db/customers_table/metadata/00000-29b2d826-3800-4e48-a79b-78faf446c956.metadata.json\n"
     ]
    },
    {
     "data": {
      "text/html": [
       "<div>\n",
       "<style scoped>\n",
       "    .dataframe tbody tr th:only-of-type {\n",
       "        vertical-align: middle;\n",
       "    }\n",
       "\n",
       "    .dataframe tbody tr th {\n",
       "        vertical-align: top;\n",
       "    }\n",
       "\n",
       "    .dataframe thead th {\n",
       "        text-align: right;\n",
       "    }\n",
       "</style>\n",
       "<table border=\"1\" class=\"dataframe\">\n",
       "  <thead>\n",
       "    <tr style=\"text-align: right;\">\n",
       "      <th></th>\n",
       "      <th>current-schema-id</th>\n",
       "      <th>current-snapshot-id</th>\n",
       "      <th>default-sort-order-id</th>\n",
       "      <th>default-spec-id</th>\n",
       "      <th>format-version</th>\n",
       "      <th>last-column-id</th>\n",
       "      <th>last-partition-id</th>\n",
       "      <th>last-updated-ms</th>\n",
       "      <th>location</th>\n",
       "      <th>metadata-log</th>\n",
       "      <th>partition-spec</th>\n",
       "      <th>partition-specs</th>\n",
       "      <th>properties</th>\n",
       "      <th>schema</th>\n",
       "      <th>schemas</th>\n",
       "      <th>snapshot-log</th>\n",
       "      <th>snapshots</th>\n",
       "      <th>sort-orders</th>\n",
       "      <th>table-uuid</th>\n",
       "    </tr>\n",
       "  </thead>\n",
       "  <tbody>\n",
       "    <tr>\n",
       "      <th>0</th>\n",
       "      <td>0</td>\n",
       "      <td>-1</td>\n",
       "      <td>0</td>\n",
       "      <td>0</td>\n",
       "      <td>1</td>\n",
       "      <td>4</td>\n",
       "      <td>1000</td>\n",
       "      <td>1682634884957</td>\n",
       "      <td>s3a://go01-demo/warehouse/tablespace/external/...</td>\n",
       "      <td>[]</td>\n",
       "      <td>[(1000, dob_hour, 4, hour)]</td>\n",
       "      <td>[([Row(field-id=1000, name='dob_hour', source-...</td>\n",
       "      <td>(pauldefusco,)</td>\n",
       "      <td>([(1, id, False, long), (2, state, False, stri...</td>\n",
       "      <td>[([Row(id=1, name='id', required=False, type='...</td>\n",
       "      <td>[]</td>\n",
       "      <td>[]</td>\n",
       "      <td>[([], 0)]</td>\n",
       "      <td>40c6c008-a95c-4471-bc69-4c2a805ae6ed</td>\n",
       "    </tr>\n",
       "  </tbody>\n",
       "</table>\n",
       "</div>"
      ],
      "text/plain": [
       "   current-schema-id  current-snapshot-id  default-sort-order-id  \\\n",
       "0                  0                   -1                      0   \n",
       "\n",
       "   default-spec-id  format-version  last-column-id  last-partition-id  \\\n",
       "0                0               1               4               1000   \n",
       "\n",
       "   last-updated-ms                                           location  \\\n",
       "0    1682634884957  s3a://go01-demo/warehouse/tablespace/external/...   \n",
       "\n",
       "  metadata-log               partition-spec  \\\n",
       "0           []  [(1000, dob_hour, 4, hour)]   \n",
       "\n",
       "                                     partition-specs      properties  \\\n",
       "0  [([Row(field-id=1000, name='dob_hour', source-...  (pauldefusco,)   \n",
       "\n",
       "                                              schema  \\\n",
       "0  ([(1, id, False, long), (2, state, False, stri...   \n",
       "\n",
       "                                             schemas snapshot-log snapshots  \\\n",
       "0  [([Row(id=1, name='id', required=False, type='...           []        []   \n",
       "\n",
       "  sort-orders                            table-uuid  \n",
       "0   [([], 0)]  40c6c008-a95c-4471-bc69-4c2a805ae6ed  "
      ]
     },
     "execution_count": 36,
     "metadata": {},
     "output_type": "execute_result"
    }
   ],
   "source": [
    "print(\"Showing \" + metadata_file_list[0])\n",
    "spark.read.option(\"multiline\",\"true\").json(\"s3a://go01-demo/\" + metadata_file_list[0]).toPandas()"
   ]
  },
  {
   "cell_type": "code",
   "execution_count": 37,
   "id": "f321d74d-6172-4fca-9a56-337cc6dea511",
   "metadata": {},
   "outputs": [
    {
     "name": "stdout",
     "output_type": "stream",
     "text": [
      "Showing warehouse/tablespace/external/hive/lakehouse_catalog.db/customers_table/metadata/00001-523fe7c1-2e41-4466-a883-a91e5e910729.metadata.json\n"
     ]
    },
    {
     "data": {
      "text/html": [
       "<div>\n",
       "<style scoped>\n",
       "    .dataframe tbody tr th:only-of-type {\n",
       "        vertical-align: middle;\n",
       "    }\n",
       "\n",
       "    .dataframe tbody tr th {\n",
       "        vertical-align: top;\n",
       "    }\n",
       "\n",
       "    .dataframe thead th {\n",
       "        text-align: right;\n",
       "    }\n",
       "</style>\n",
       "<table border=\"1\" class=\"dataframe\">\n",
       "  <thead>\n",
       "    <tr style=\"text-align: right;\">\n",
       "      <th></th>\n",
       "      <th>current-schema-id</th>\n",
       "      <th>current-snapshot-id</th>\n",
       "      <th>default-sort-order-id</th>\n",
       "      <th>default-spec-id</th>\n",
       "      <th>format-version</th>\n",
       "      <th>last-column-id</th>\n",
       "      <th>last-partition-id</th>\n",
       "      <th>last-updated-ms</th>\n",
       "      <th>location</th>\n",
       "      <th>metadata-log</th>\n",
       "      <th>partition-spec</th>\n",
       "      <th>partition-specs</th>\n",
       "      <th>properties</th>\n",
       "      <th>refs</th>\n",
       "      <th>schema</th>\n",
       "      <th>schemas</th>\n",
       "      <th>snapshot-log</th>\n",
       "      <th>snapshots</th>\n",
       "      <th>sort-orders</th>\n",
       "      <th>table-uuid</th>\n",
       "    </tr>\n",
       "  </thead>\n",
       "  <tbody>\n",
       "    <tr>\n",
       "      <th>0</th>\n",
       "      <td>0</td>\n",
       "      <td>6887654183493915966</td>\n",
       "      <td>0</td>\n",
       "      <td>0</td>\n",
       "      <td>1</td>\n",
       "      <td>4</td>\n",
       "      <td>1000</td>\n",
       "      <td>1682634893810</td>\n",
       "      <td>s3a://go01-demo/warehouse/tablespace/external/...</td>\n",
       "      <td>[(s3a://go01-demo/warehouse/tablespace/externa...</td>\n",
       "      <td>[(1000, dob_hour, 4, hour)]</td>\n",
       "      <td>[([Row(field-id=1000, name='dob_hour', source-...</td>\n",
       "      <td>(pauldefusco,)</td>\n",
       "      <td>((6887654183493915966, branch),)</td>\n",
       "      <td>([(1, id, False, long), (2, state, False, stri...</td>\n",
       "      <td>[([Row(id=1, name='id', required=False, type='...</td>\n",
       "      <td>[(6887654183493915966, 1682634893810)]</td>\n",
       "      <td>[(s3a://go01-demo/warehouse/tablespace/externa...</td>\n",
       "      <td>[([], 0)]</td>\n",
       "      <td>40c6c008-a95c-4471-bc69-4c2a805ae6ed</td>\n",
       "    </tr>\n",
       "  </tbody>\n",
       "</table>\n",
       "</div>"
      ],
      "text/plain": [
       "   current-schema-id  current-snapshot-id  default-sort-order-id  \\\n",
       "0                  0  6887654183493915966                      0   \n",
       "\n",
       "   default-spec-id  format-version  last-column-id  last-partition-id  \\\n",
       "0                0               1               4               1000   \n",
       "\n",
       "   last-updated-ms                                           location  \\\n",
       "0    1682634893810  s3a://go01-demo/warehouse/tablespace/external/...   \n",
       "\n",
       "                                        metadata-log  \\\n",
       "0  [(s3a://go01-demo/warehouse/tablespace/externa...   \n",
       "\n",
       "                partition-spec  \\\n",
       "0  [(1000, dob_hour, 4, hour)]   \n",
       "\n",
       "                                     partition-specs      properties  \\\n",
       "0  [([Row(field-id=1000, name='dob_hour', source-...  (pauldefusco,)   \n",
       "\n",
       "                               refs  \\\n",
       "0  ((6887654183493915966, branch),)   \n",
       "\n",
       "                                              schema  \\\n",
       "0  ([(1, id, False, long), (2, state, False, stri...   \n",
       "\n",
       "                                             schemas  \\\n",
       "0  [([Row(id=1, name='id', required=False, type='...   \n",
       "\n",
       "                             snapshot-log  \\\n",
       "0  [(6887654183493915966, 1682634893810)]   \n",
       "\n",
       "                                           snapshots sort-orders  \\\n",
       "0  [(s3a://go01-demo/warehouse/tablespace/externa...   [([], 0)]   \n",
       "\n",
       "                             table-uuid  \n",
       "0  40c6c008-a95c-4471-bc69-4c2a805ae6ed  "
      ]
     },
     "execution_count": 37,
     "metadata": {},
     "output_type": "execute_result"
    }
   ],
   "source": [
    "print(\"Showing \" + metadata_file_list[1])\n",
    "spark.read.option(\"multiline\",\"true\").json(\"s3a://go01-demo/\" + metadata_file_list[1]).toPandas()"
   ]
  },
  {
   "cell_type": "code",
   "execution_count": 38,
   "id": "22b53789-1ab4-4b63-a6b6-8a1c52e51abb",
   "metadata": {},
   "outputs": [
    {
     "name": "stdout",
     "output_type": "stream",
     "text": [
      "Showing warehouse/tablespace/external/hive/lakehouse_catalog.db/customers_table/metadata/00002-bcc08b11-bbad-4a48-9eb3-dfcf8226221d.metadata.json\n"
     ]
    },
    {
     "data": {
      "text/html": [
       "<div>\n",
       "<style scoped>\n",
       "    .dataframe tbody tr th:only-of-type {\n",
       "        vertical-align: middle;\n",
       "    }\n",
       "\n",
       "    .dataframe tbody tr th {\n",
       "        vertical-align: top;\n",
       "    }\n",
       "\n",
       "    .dataframe thead th {\n",
       "        text-align: right;\n",
       "    }\n",
       "</style>\n",
       "<table border=\"1\" class=\"dataframe\">\n",
       "  <thead>\n",
       "    <tr style=\"text-align: right;\">\n",
       "      <th></th>\n",
       "      <th>current-schema-id</th>\n",
       "      <th>current-snapshot-id</th>\n",
       "      <th>default-sort-order-id</th>\n",
       "      <th>default-spec-id</th>\n",
       "      <th>format-version</th>\n",
       "      <th>last-column-id</th>\n",
       "      <th>last-partition-id</th>\n",
       "      <th>last-updated-ms</th>\n",
       "      <th>location</th>\n",
       "      <th>metadata-log</th>\n",
       "      <th>partition-spec</th>\n",
       "      <th>partition-specs</th>\n",
       "      <th>properties</th>\n",
       "      <th>refs</th>\n",
       "      <th>schema</th>\n",
       "      <th>schemas</th>\n",
       "      <th>snapshot-log</th>\n",
       "      <th>snapshots</th>\n",
       "      <th>sort-orders</th>\n",
       "      <th>table-uuid</th>\n",
       "    </tr>\n",
       "  </thead>\n",
       "  <tbody>\n",
       "    <tr>\n",
       "      <th>0</th>\n",
       "      <td>0</td>\n",
       "      <td>4263374782247318559</td>\n",
       "      <td>0</td>\n",
       "      <td>0</td>\n",
       "      <td>1</td>\n",
       "      <td>4</td>\n",
       "      <td>1000</td>\n",
       "      <td>1682634923955</td>\n",
       "      <td>s3a://go01-demo/warehouse/tablespace/external/...</td>\n",
       "      <td>[(s3a://go01-demo/warehouse/tablespace/externa...</td>\n",
       "      <td>[(1000, dob_hour, 4, hour)]</td>\n",
       "      <td>[([Row(field-id=1000, name='dob_hour', source-...</td>\n",
       "      <td>(pauldefusco,)</td>\n",
       "      <td>((4263374782247318559, branch),)</td>\n",
       "      <td>([(1, id, False, long), (2, state, False, stri...</td>\n",
       "      <td>[([Row(id=1, name='id', required=False, type='...</td>\n",
       "      <td>[(6887654183493915966, 1682634893810), (426337...</td>\n",
       "      <td>[(s3a://go01-demo/warehouse/tablespace/externa...</td>\n",
       "      <td>[([], 0)]</td>\n",
       "      <td>40c6c008-a95c-4471-bc69-4c2a805ae6ed</td>\n",
       "    </tr>\n",
       "  </tbody>\n",
       "</table>\n",
       "</div>"
      ],
      "text/plain": [
       "   current-schema-id  current-snapshot-id  default-sort-order-id  \\\n",
       "0                  0  4263374782247318559                      0   \n",
       "\n",
       "   default-spec-id  format-version  last-column-id  last-partition-id  \\\n",
       "0                0               1               4               1000   \n",
       "\n",
       "   last-updated-ms                                           location  \\\n",
       "0    1682634923955  s3a://go01-demo/warehouse/tablespace/external/...   \n",
       "\n",
       "                                        metadata-log  \\\n",
       "0  [(s3a://go01-demo/warehouse/tablespace/externa...   \n",
       "\n",
       "                partition-spec  \\\n",
       "0  [(1000, dob_hour, 4, hour)]   \n",
       "\n",
       "                                     partition-specs      properties  \\\n",
       "0  [([Row(field-id=1000, name='dob_hour', source-...  (pauldefusco,)   \n",
       "\n",
       "                               refs  \\\n",
       "0  ((4263374782247318559, branch),)   \n",
       "\n",
       "                                              schema  \\\n",
       "0  ([(1, id, False, long), (2, state, False, stri...   \n",
       "\n",
       "                                             schemas  \\\n",
       "0  [([Row(id=1, name='id', required=False, type='...   \n",
       "\n",
       "                                        snapshot-log  \\\n",
       "0  [(6887654183493915966, 1682634893810), (426337...   \n",
       "\n",
       "                                           snapshots sort-orders  \\\n",
       "0  [(s3a://go01-demo/warehouse/tablespace/externa...   [([], 0)]   \n",
       "\n",
       "                             table-uuid  \n",
       "0  40c6c008-a95c-4471-bc69-4c2a805ae6ed  "
      ]
     },
     "execution_count": 38,
     "metadata": {},
     "output_type": "execute_result"
    }
   ],
   "source": [
    "print(\"Showing \" + metadata_file_list[2])\n",
    "spark.read.option(\"multiline\",\"true\").json(\"s3a://go01-demo/\" + metadata_file_list[2]).toPandas()"
   ]
  },
  {
   "cell_type": "markdown",
   "id": "cba3cfee-e9d4-4d30-b209-6fde71d57479",
   "metadata": {},
   "source": [
    "Showing Manifest Lists (AVRO - prefixed by \"SNAP\")"
   ]
  },
  {
   "cell_type": "code",
   "execution_count": 39,
   "id": "68efbe39-a3de-48eb-add8-4c136a2ad8d5",
   "metadata": {},
   "outputs": [
    {
     "name": "stdout",
     "output_type": "stream",
     "text": [
      "Showing warehouse/tablespace/external/hive/lakehouse_catalog.db/customers_table/metadata/snap-4263374782247318559-1-c9cd5045-5a65-4a8a-9eab-27799c1f48a2.avro\n"
     ]
    },
    {
     "data": {
      "text/html": [
       "<div>\n",
       "<style scoped>\n",
       "    .dataframe tbody tr th:only-of-type {\n",
       "        vertical-align: middle;\n",
       "    }\n",
       "\n",
       "    .dataframe tbody tr th {\n",
       "        vertical-align: top;\n",
       "    }\n",
       "\n",
       "    .dataframe thead th {\n",
       "        text-align: right;\n",
       "    }\n",
       "</style>\n",
       "<table border=\"1\" class=\"dataframe\">\n",
       "  <thead>\n",
       "    <tr style=\"text-align: right;\">\n",
       "      <th></th>\n",
       "      <th>manifest_path</th>\n",
       "      <th>manifest_length</th>\n",
       "      <th>partition_spec_id</th>\n",
       "      <th>added_snapshot_id</th>\n",
       "      <th>added_data_files_count</th>\n",
       "      <th>existing_data_files_count</th>\n",
       "      <th>deleted_data_files_count</th>\n",
       "      <th>partitions</th>\n",
       "      <th>added_rows_count</th>\n",
       "      <th>existing_rows_count</th>\n",
       "      <th>deleted_rows_count</th>\n",
       "    </tr>\n",
       "  </thead>\n",
       "  <tbody>\n",
       "    <tr>\n",
       "      <th>0</th>\n",
       "      <td>s3a://go01-demo/warehouse/tablespace/external/...</td>\n",
       "      <td>6373</td>\n",
       "      <td>0</td>\n",
       "      <td>4263374782247318559</td>\n",
       "      <td>4</td>\n",
       "      <td>0</td>\n",
       "      <td>0</td>\n",
       "      <td>[(False, False, [56, 3, 4, 0], [128, 3, 4, 0])]</td>\n",
       "      <td>9</td>\n",
       "      <td>0</td>\n",
       "      <td>0</td>\n",
       "    </tr>\n",
       "    <tr>\n",
       "      <th>1</th>\n",
       "      <td>s3a://go01-demo/warehouse/tablespace/external/...</td>\n",
       "      <td>6193</td>\n",
       "      <td>0</td>\n",
       "      <td>4263374782247318559</td>\n",
       "      <td>0</td>\n",
       "      <td>0</td>\n",
       "      <td>1</td>\n",
       "      <td>[(False, False, [56, 3, 4, 0], [56, 3, 4, 0])]</td>\n",
       "      <td>0</td>\n",
       "      <td>0</td>\n",
       "      <td>1</td>\n",
       "    </tr>\n",
       "  </tbody>\n",
       "</table>\n",
       "</div>"
      ],
      "text/plain": [
       "                                       manifest_path  manifest_length  \\\n",
       "0  s3a://go01-demo/warehouse/tablespace/external/...             6373   \n",
       "1  s3a://go01-demo/warehouse/tablespace/external/...             6193   \n",
       "\n",
       "   partition_spec_id    added_snapshot_id  added_data_files_count  \\\n",
       "0                  0  4263374782247318559                       4   \n",
       "1                  0  4263374782247318559                       0   \n",
       "\n",
       "   existing_data_files_count  deleted_data_files_count  \\\n",
       "0                          0                         0   \n",
       "1                          0                         1   \n",
       "\n",
       "                                        partitions  added_rows_count  \\\n",
       "0  [(False, False, [56, 3, 4, 0], [128, 3, 4, 0])]                 9   \n",
       "1   [(False, False, [56, 3, 4, 0], [56, 3, 4, 0])]                 0   \n",
       "\n",
       "   existing_rows_count  deleted_rows_count  \n",
       "0                    0                   0  \n",
       "1                    0                   1  "
      ]
     },
     "execution_count": 39,
     "metadata": {},
     "output_type": "execute_result"
    }
   ],
   "source": [
    "print(\"Showing \" + metadata_file_list[6])\n",
    "spark.read.format(\"avro\").load(\"s3a://go01-demo/\" + metadata_file_list[6]).toPandas()"
   ]
  },
  {
   "cell_type": "code",
   "execution_count": 40,
   "id": "f99f9bf9-8d6b-4a46-97bd-c869391d16ed",
   "metadata": {},
   "outputs": [
    {
     "name": "stdout",
     "output_type": "stream",
     "text": [
      "Showing warehouse/tablespace/external/hive/lakehouse_catalog.db/customers_table/metadata/snap-6887654183493915966-1-7a1a260d-99b5-4e22-b1d3-6da99f76c5f2.avro\n"
     ]
    },
    {
     "data": {
      "text/html": [
       "<div>\n",
       "<style scoped>\n",
       "    .dataframe tbody tr th:only-of-type {\n",
       "        vertical-align: middle;\n",
       "    }\n",
       "\n",
       "    .dataframe tbody tr th {\n",
       "        vertical-align: top;\n",
       "    }\n",
       "\n",
       "    .dataframe thead th {\n",
       "        text-align: right;\n",
       "    }\n",
       "</style>\n",
       "<table border=\"1\" class=\"dataframe\">\n",
       "  <thead>\n",
       "    <tr style=\"text-align: right;\">\n",
       "      <th></th>\n",
       "      <th>manifest_path</th>\n",
       "      <th>manifest_length</th>\n",
       "      <th>partition_spec_id</th>\n",
       "      <th>added_snapshot_id</th>\n",
       "      <th>added_data_files_count</th>\n",
       "      <th>existing_data_files_count</th>\n",
       "      <th>deleted_data_files_count</th>\n",
       "      <th>partitions</th>\n",
       "      <th>added_rows_count</th>\n",
       "      <th>existing_rows_count</th>\n",
       "      <th>deleted_rows_count</th>\n",
       "    </tr>\n",
       "  </thead>\n",
       "  <tbody>\n",
       "    <tr>\n",
       "      <th>0</th>\n",
       "      <td>s3a://go01-demo/warehouse/tablespace/external/...</td>\n",
       "      <td>6192</td>\n",
       "      <td>0</td>\n",
       "      <td>6887654183493915966</td>\n",
       "      <td>1</td>\n",
       "      <td>0</td>\n",
       "      <td>0</td>\n",
       "      <td>[(False, False, [56, 3, 4, 0], [56, 3, 4, 0])]</td>\n",
       "      <td>1</td>\n",
       "      <td>0</td>\n",
       "      <td>0</td>\n",
       "    </tr>\n",
       "  </tbody>\n",
       "</table>\n",
       "</div>"
      ],
      "text/plain": [
       "                                       manifest_path  manifest_length  \\\n",
       "0  s3a://go01-demo/warehouse/tablespace/external/...             6192   \n",
       "\n",
       "   partition_spec_id    added_snapshot_id  added_data_files_count  \\\n",
       "0                  0  6887654183493915966                       1   \n",
       "\n",
       "   existing_data_files_count  deleted_data_files_count  \\\n",
       "0                          0                         0   \n",
       "\n",
       "                                       partitions  added_rows_count  \\\n",
       "0  [(False, False, [56, 3, 4, 0], [56, 3, 4, 0])]                 1   \n",
       "\n",
       "   existing_rows_count  deleted_rows_count  \n",
       "0                    0                   0  "
      ]
     },
     "execution_count": 40,
     "metadata": {},
     "output_type": "execute_result"
    }
   ],
   "source": [
    "print(\"Showing \" + metadata_file_list[7])\n",
    "spark.read.format(\"avro\").load(\"s3a://go01-demo/\" + metadata_file_list[7]).toPandas()"
   ]
  },
  {
   "cell_type": "markdown",
   "id": "a8ad15d0-0d60-4d02-8ace-2d2339bac782",
   "metadata": {},
   "source": [
    "Showing Manifest Files (Avro) i.e. list of table partitions mapped to snapshot ID"
   ]
  },
  {
   "cell_type": "code",
   "execution_count": 41,
   "id": "fec68656-4531-4dd6-99d7-b85249a491a0",
   "metadata": {},
   "outputs": [
    {
     "name": "stdout",
     "output_type": "stream",
     "text": [
      "Showing warehouse/tablespace/external/hive/lakehouse_catalog.db/customers_table/metadata/7a1a260d-99b5-4e22-b1d3-6da99f76c5f2-m0.avro\n"
     ]
    },
    {
     "data": {
      "text/html": [
       "<div>\n",
       "<style scoped>\n",
       "    .dataframe tbody tr th:only-of-type {\n",
       "        vertical-align: middle;\n",
       "    }\n",
       "\n",
       "    .dataframe tbody tr th {\n",
       "        vertical-align: top;\n",
       "    }\n",
       "\n",
       "    .dataframe thead th {\n",
       "        text-align: right;\n",
       "    }\n",
       "</style>\n",
       "<table border=\"1\" class=\"dataframe\">\n",
       "  <thead>\n",
       "    <tr style=\"text-align: right;\">\n",
       "      <th></th>\n",
       "      <th>status</th>\n",
       "      <th>snapshot_id</th>\n",
       "      <th>data_file</th>\n",
       "    </tr>\n",
       "  </thead>\n",
       "  <tbody>\n",
       "    <tr>\n",
       "      <th>0</th>\n",
       "      <td>1</td>\n",
       "      <td>6887654183493915966</td>\n",
       "      <td>(s3a://go01-demo/warehouse/tablespace/external...</td>\n",
       "    </tr>\n",
       "  </tbody>\n",
       "</table>\n",
       "</div>"
      ],
      "text/plain": [
       "   status          snapshot_id  \\\n",
       "0       1  6887654183493915966   \n",
       "\n",
       "                                           data_file  \n",
       "0  (s3a://go01-demo/warehouse/tablespace/external...  "
      ]
     },
     "execution_count": 41,
     "metadata": {},
     "output_type": "execute_result"
    }
   ],
   "source": [
    "print(\"Showing \" + metadata_file_list[3])\n",
    "spark.read.format(\"avro\").load(\"s3a://go01-demo/\" + metadata_file_list[3]).toPandas()"
   ]
  },
  {
   "cell_type": "code",
   "execution_count": 42,
   "id": "4f3b9d9a-955c-4474-821f-974cd9decda6",
   "metadata": {},
   "outputs": [
    {
     "name": "stdout",
     "output_type": "stream",
     "text": [
      "Showing warehouse/tablespace/external/hive/lakehouse_catalog.db/customers_table/metadata/c9cd5045-5a65-4a8a-9eab-27799c1f48a2-m0.avro\n"
     ]
    },
    {
     "data": {
      "text/html": [
       "<div>\n",
       "<style scoped>\n",
       "    .dataframe tbody tr th:only-of-type {\n",
       "        vertical-align: middle;\n",
       "    }\n",
       "\n",
       "    .dataframe tbody tr th {\n",
       "        vertical-align: top;\n",
       "    }\n",
       "\n",
       "    .dataframe thead th {\n",
       "        text-align: right;\n",
       "    }\n",
       "</style>\n",
       "<table border=\"1\" class=\"dataframe\">\n",
       "  <thead>\n",
       "    <tr style=\"text-align: right;\">\n",
       "      <th></th>\n",
       "      <th>status</th>\n",
       "      <th>snapshot_id</th>\n",
       "      <th>data_file</th>\n",
       "    </tr>\n",
       "  </thead>\n",
       "  <tbody>\n",
       "    <tr>\n",
       "      <th>0</th>\n",
       "      <td>2</td>\n",
       "      <td>4263374782247318559</td>\n",
       "      <td>(s3a://go01-demo/warehouse/tablespace/external...</td>\n",
       "    </tr>\n",
       "  </tbody>\n",
       "</table>\n",
       "</div>"
      ],
      "text/plain": [
       "   status          snapshot_id  \\\n",
       "0       2  4263374782247318559   \n",
       "\n",
       "                                           data_file  \n",
       "0  (s3a://go01-demo/warehouse/tablespace/external...  "
      ]
     },
     "execution_count": 42,
     "metadata": {},
     "output_type": "execute_result"
    }
   ],
   "source": [
    "print(\"Showing \" + metadata_file_list[4])\n",
    "spark.read.format(\"avro\").load(\"s3a://go01-demo/\" + metadata_file_list[4]).toPandas()"
   ]
  },
  {
   "cell_type": "code",
   "execution_count": 43,
   "id": "3837a142-1dc7-46fe-871d-1b3ff2ec6dd9",
   "metadata": {},
   "outputs": [
    {
     "name": "stdout",
     "output_type": "stream",
     "text": [
      "Showing warehouse/tablespace/external/hive/lakehouse_catalog.db/customers_table/metadata/c9cd5045-5a65-4a8a-9eab-27799c1f48a2-m1.avro\n"
     ]
    },
    {
     "data": {
      "text/html": [
       "<div>\n",
       "<style scoped>\n",
       "    .dataframe tbody tr th:only-of-type {\n",
       "        vertical-align: middle;\n",
       "    }\n",
       "\n",
       "    .dataframe tbody tr th {\n",
       "        vertical-align: top;\n",
       "    }\n",
       "\n",
       "    .dataframe thead th {\n",
       "        text-align: right;\n",
       "    }\n",
       "</style>\n",
       "<table border=\"1\" class=\"dataframe\">\n",
       "  <thead>\n",
       "    <tr style=\"text-align: right;\">\n",
       "      <th></th>\n",
       "      <th>status</th>\n",
       "      <th>snapshot_id</th>\n",
       "      <th>data_file</th>\n",
       "    </tr>\n",
       "  </thead>\n",
       "  <tbody>\n",
       "    <tr>\n",
       "      <th>0</th>\n",
       "      <td>1</td>\n",
       "      <td>4263374782247318559</td>\n",
       "      <td>(s3a://go01-demo/warehouse/tablespace/external...</td>\n",
       "    </tr>\n",
       "    <tr>\n",
       "      <th>1</th>\n",
       "      <td>1</td>\n",
       "      <td>4263374782247318559</td>\n",
       "      <td>(s3a://go01-demo/warehouse/tablespace/external...</td>\n",
       "    </tr>\n",
       "    <tr>\n",
       "      <th>2</th>\n",
       "      <td>1</td>\n",
       "      <td>4263374782247318559</td>\n",
       "      <td>(s3a://go01-demo/warehouse/tablespace/external...</td>\n",
       "    </tr>\n",
       "    <tr>\n",
       "      <th>3</th>\n",
       "      <td>1</td>\n",
       "      <td>4263374782247318559</td>\n",
       "      <td>(s3a://go01-demo/warehouse/tablespace/external...</td>\n",
       "    </tr>\n",
       "  </tbody>\n",
       "</table>\n",
       "</div>"
      ],
      "text/plain": [
       "   status          snapshot_id  \\\n",
       "0       1  4263374782247318559   \n",
       "1       1  4263374782247318559   \n",
       "2       1  4263374782247318559   \n",
       "3       1  4263374782247318559   \n",
       "\n",
       "                                           data_file  \n",
       "0  (s3a://go01-demo/warehouse/tablespace/external...  \n",
       "1  (s3a://go01-demo/warehouse/tablespace/external...  \n",
       "2  (s3a://go01-demo/warehouse/tablespace/external...  \n",
       "3  (s3a://go01-demo/warehouse/tablespace/external...  "
      ]
     },
     "execution_count": 43,
     "metadata": {},
     "output_type": "execute_result"
    }
   ],
   "source": [
    "print(\"Showing \" + metadata_file_list[5])\n",
    "spark.read.format(\"avro\").load(\"s3a://go01-demo/\" + metadata_file_list[5]).toPandas()"
   ]
  },
  {
   "cell_type": "markdown",
   "id": "62108a25-7170-4760-88a9-bbe2a80581b3",
   "metadata": {},
   "source": [
    "### Time Travel "
   ]
  },
  {
   "cell_type": "code",
   "execution_count": 44,
   "id": "c566c5c6-8b5d-4aba-9c20-409233c4827b",
   "metadata": {},
   "outputs": [],
   "source": [
    "snapshots_df = spark.sql(\"SELECT * FROM lakehouse_catalog.customers_table.snapshots;\")"
   ]
  },
  {
   "cell_type": "code",
   "execution_count": 45,
   "id": "0852473c-3639-43c1-a446-8920be731f14",
   "metadata": {},
   "outputs": [],
   "source": [
    "first_snapshot = snapshots_df.select(\"snapshot_id\").head(1)[0][0]"
   ]
  },
  {
   "cell_type": "markdown",
   "id": "bb18fe8c-fb4f-4669-a52e-fbe024979e4b",
   "metadata": {},
   "source": [
    "#### Validate that the output dataframe only includes one row"
   ]
  },
  {
   "cell_type": "code",
   "execution_count": 46,
   "id": "7c0cd767-66f2-4393-8a2f-0d1d89e6a973",
   "metadata": {},
   "outputs": [
    {
     "data": {
      "text/html": [
       "<div>\n",
       "<style scoped>\n",
       "    .dataframe tbody tr th:only-of-type {\n",
       "        vertical-align: middle;\n",
       "    }\n",
       "\n",
       "    .dataframe tbody tr th {\n",
       "        vertical-align: top;\n",
       "    }\n",
       "\n",
       "    .dataframe thead th {\n",
       "        text-align: right;\n",
       "    }\n",
       "</style>\n",
       "<table border=\"1\" class=\"dataframe\">\n",
       "  <thead>\n",
       "    <tr style=\"text-align: right;\">\n",
       "      <th></th>\n",
       "      <th>id</th>\n",
       "      <th>state</th>\n",
       "      <th>country</th>\n",
       "      <th>dob</th>\n",
       "    </tr>\n",
       "  </thead>\n",
       "  <tbody>\n",
       "    <tr>\n",
       "      <th>0</th>\n",
       "      <td>1</td>\n",
       "      <td>CA</td>\n",
       "      <td>USA</td>\n",
       "      <td>2000-01-01</td>\n",
       "    </tr>\n",
       "  </tbody>\n",
       "</table>\n",
       "</div>"
      ],
      "text/plain": [
       "   id state country        dob\n",
       "0   1    CA     USA 2000-01-01"
      ]
     },
     "execution_count": 46,
     "metadata": {},
     "output_type": "execute_result"
    }
   ],
   "source": [
    "spark.read\\\n",
    "    .option(\"snapshot-id\", first_snapshot)\\\n",
    "    .format(\"iceberg\")\\\n",
    "    .load(\"lakehouse_catalog.customers_table\").toPandas()"
   ]
  },
  {
   "cell_type": "markdown",
   "id": "e0086fbd-2b28-4df6-baf9-17768c5a7b9b",
   "metadata": {},
   "source": [
    "### Drop the Table"
   ]
  },
  {
   "cell_type": "code",
   "execution_count": 47,
   "id": "abab5842-1722-470e-8066-c58e7659192e",
   "metadata": {},
   "outputs": [
    {
     "name": "stderr",
     "output_type": "stream",
     "text": [
      "                                                                                \r"
     ]
    },
    {
     "data": {
      "text/plain": [
       "DataFrame[]"
      ]
     },
     "execution_count": 47,
     "metadata": {},
     "output_type": "execute_result"
    }
   ],
   "source": [
    "spark.sql(\"DROP TABLE IF EXISTS lakehouse_catalog.staging\")"
   ]
  },
  {
   "cell_type": "markdown",
   "id": "f903baae-7c19-45a9-95d3-79d929491ed2",
   "metadata": {},
   "source": [
    "Validate that the metadata folder is now empty but the data folder still retains parquet files."
   ]
  },
  {
   "cell_type": "markdown",
   "id": "21fef6a1-ca58-48d2-83c2-e4e66dc2e3b1",
   "metadata": {},
   "source": [
    "![alt text](../img/s3_droptable_1.png)"
   ]
  },
  {
   "cell_type": "markdown",
   "id": "50eba9f0-a03c-4c17-bb4f-d1b9e6404a97",
   "metadata": {},
   "source": [
    "![alt text](../img/s3_droptable_2.png)"
   ]
  },
  {
   "cell_type": "markdown",
   "id": "8de2b0a5-8b24-4055-8250-d2ce689949c3",
   "metadata": {},
   "source": [
    "![alt text](../img/s3_droptable_3.png)"
   ]
  },
  {
   "cell_type": "code",
   "execution_count": null,
   "id": "f7f5ee00-d3ec-4b73-8333-eb801d01de05",
   "metadata": {},
   "outputs": [],
   "source": []
  },
  {
   "cell_type": "code",
   "execution_count": 54,
   "id": "43739d1f-8682-4575-98de-58f4ca4416f4",
   "metadata": {},
   "outputs": [
    {
     "data": {
      "text/plain": [
       "DataFrame[]"
      ]
     },
     "execution_count": 54,
     "metadata": {},
     "output_type": "execute_result"
    }
   ],
   "source": [
    "spark.sql(\"ALTER TABLE lakehouse_catalog.customers_table\\\n",
    "            SET TBLPROPERTIES ('format-version' = '2')\")"
   ]
  },
  {
   "cell_type": "code",
   "execution_count": 55,
   "id": "f38b4f0c-f054-4721-9789-5e3968be2985",
   "metadata": {},
   "outputs": [
    {
     "name": "stdout",
     "output_type": "stream",
     "text": [
      "warehouse/tablespace/external/hive/lakehouse_catalog.db/customers_table/metadata/00000-29b2d826-3800-4e48-a79b-78faf446c956.metadata.json\n",
      "\n",
      "warehouse/tablespace/external/hive/lakehouse_catalog.db/customers_table/metadata/00001-523fe7c1-2e41-4466-a883-a91e5e910729.metadata.json\n",
      "\n",
      "warehouse/tablespace/external/hive/lakehouse_catalog.db/customers_table/metadata/00002-bcc08b11-bbad-4a48-9eb3-dfcf8226221d.metadata.json\n",
      "\n",
      "warehouse/tablespace/external/hive/lakehouse_catalog.db/customers_table/metadata/00003-24aae4c7-871b-4ad7-b545-123ba8507b6c.metadata.json\n",
      "\n",
      "warehouse/tablespace/external/hive/lakehouse_catalog.db/customers_table/metadata/7a1a260d-99b5-4e22-b1d3-6da99f76c5f2-m0.avro\n",
      "\n",
      "warehouse/tablespace/external/hive/lakehouse_catalog.db/customers_table/metadata/c9cd5045-5a65-4a8a-9eab-27799c1f48a2-m0.avro\n",
      "\n",
      "warehouse/tablespace/external/hive/lakehouse_catalog.db/customers_table/metadata/c9cd5045-5a65-4a8a-9eab-27799c1f48a2-m1.avro\n",
      "\n",
      "warehouse/tablespace/external/hive/lakehouse_catalog.db/customers_table/metadata/snap-4263374782247318559-1-c9cd5045-5a65-4a8a-9eab-27799c1f48a2.avro\n",
      "\n",
      "warehouse/tablespace/external/hive/lakehouse_catalog.db/customers_table/metadata/snap-6887654183493915966-1-7a1a260d-99b5-4e22-b1d3-6da99f76c5f2.avro\n",
      "\n"
     ]
    }
   ],
   "source": [
    "s3 = boto3.resource('s3')\n",
    "my_bucket = s3.Bucket(\"go01-demo\")\n",
    "\n",
    "metadata_file_list = []\n",
    "\n",
    "for object_summary in my_bucket.objects.filter(Prefix=\"warehouse/tablespace/external/hive/lakehouse_catalog.db/customers_table/metadata\"):\n",
    "    print(object_summary.key +\"\\n\")\n",
    "    metadata_file_list.append(object_summary.key)"
   ]
  },
  {
   "cell_type": "code",
   "execution_count": 56,
   "id": "e0ba146b-fdfb-41e3-bc75-65ce5c4c5bc1",
   "metadata": {},
   "outputs": [
    {
     "name": "stdout",
     "output_type": "stream",
     "text": [
      "Showing warehouse/tablespace/external/hive/lakehouse_catalog.db/customers_table/metadata/00003-24aae4c7-871b-4ad7-b545-123ba8507b6c.metadata.json\n"
     ]
    },
    {
     "name": "stderr",
     "output_type": "stream",
     "text": [
      "                                                                                \r"
     ]
    },
    {
     "data": {
      "text/html": [
       "<div>\n",
       "<style scoped>\n",
       "    .dataframe tbody tr th:only-of-type {\n",
       "        vertical-align: middle;\n",
       "    }\n",
       "\n",
       "    .dataframe tbody tr th {\n",
       "        vertical-align: top;\n",
       "    }\n",
       "\n",
       "    .dataframe thead th {\n",
       "        text-align: right;\n",
       "    }\n",
       "</style>\n",
       "<table border=\"1\" class=\"dataframe\">\n",
       "  <thead>\n",
       "    <tr style=\"text-align: right;\">\n",
       "      <th></th>\n",
       "      <th>current-schema-id</th>\n",
       "      <th>current-snapshot-id</th>\n",
       "      <th>default-sort-order-id</th>\n",
       "      <th>default-spec-id</th>\n",
       "      <th>format-version</th>\n",
       "      <th>last-column-id</th>\n",
       "      <th>last-partition-id</th>\n",
       "      <th>last-sequence-number</th>\n",
       "      <th>last-updated-ms</th>\n",
       "      <th>location</th>\n",
       "      <th>metadata-log</th>\n",
       "      <th>partition-specs</th>\n",
       "      <th>properties</th>\n",
       "      <th>refs</th>\n",
       "      <th>schemas</th>\n",
       "      <th>snapshot-log</th>\n",
       "      <th>snapshots</th>\n",
       "      <th>sort-orders</th>\n",
       "      <th>table-uuid</th>\n",
       "    </tr>\n",
       "  </thead>\n",
       "  <tbody>\n",
       "    <tr>\n",
       "      <th>0</th>\n",
       "      <td>0</td>\n",
       "      <td>4263374782247318559</td>\n",
       "      <td>0</td>\n",
       "      <td>0</td>\n",
       "      <td>2</td>\n",
       "      <td>4</td>\n",
       "      <td>1000</td>\n",
       "      <td>0</td>\n",
       "      <td>1682634971749</td>\n",
       "      <td>s3a://go01-demo/warehouse/tablespace/external/...</td>\n",
       "      <td>[(s3a://go01-demo/warehouse/tablespace/externa...</td>\n",
       "      <td>[([Row(field-id=1000, name='dob_hour', source-...</td>\n",
       "      <td>(pauldefusco, merge-on-read, merge-on-read, me...</td>\n",
       "      <td>((4263374782247318559, branch),)</td>\n",
       "      <td>[([Row(id=1, name='id', required=False, type='...</td>\n",
       "      <td>[(6887654183493915966, 1682634893810), (426337...</td>\n",
       "      <td>[(s3a://go01-demo/warehouse/tablespace/externa...</td>\n",
       "      <td>[([], 0)]</td>\n",
       "      <td>40c6c008-a95c-4471-bc69-4c2a805ae6ed</td>\n",
       "    </tr>\n",
       "  </tbody>\n",
       "</table>\n",
       "</div>"
      ],
      "text/plain": [
       "   current-schema-id  current-snapshot-id  default-sort-order-id  \\\n",
       "0                  0  4263374782247318559                      0   \n",
       "\n",
       "   default-spec-id  format-version  last-column-id  last-partition-id  \\\n",
       "0                0               2               4               1000   \n",
       "\n",
       "   last-sequence-number  last-updated-ms  \\\n",
       "0                     0    1682634971749   \n",
       "\n",
       "                                            location  \\\n",
       "0  s3a://go01-demo/warehouse/tablespace/external/...   \n",
       "\n",
       "                                        metadata-log  \\\n",
       "0  [(s3a://go01-demo/warehouse/tablespace/externa...   \n",
       "\n",
       "                                     partition-specs  \\\n",
       "0  [([Row(field-id=1000, name='dob_hour', source-...   \n",
       "\n",
       "                                          properties  \\\n",
       "0  (pauldefusco, merge-on-read, merge-on-read, me...   \n",
       "\n",
       "                               refs  \\\n",
       "0  ((4263374782247318559, branch),)   \n",
       "\n",
       "                                             schemas  \\\n",
       "0  [([Row(id=1, name='id', required=False, type='...   \n",
       "\n",
       "                                        snapshot-log  \\\n",
       "0  [(6887654183493915966, 1682634893810), (426337...   \n",
       "\n",
       "                                           snapshots sort-orders  \\\n",
       "0  [(s3a://go01-demo/warehouse/tablespace/externa...   [([], 0)]   \n",
       "\n",
       "                             table-uuid  \n",
       "0  40c6c008-a95c-4471-bc69-4c2a805ae6ed  "
      ]
     },
     "execution_count": 56,
     "metadata": {},
     "output_type": "execute_result"
    }
   ],
   "source": [
    "print(\"Showing \" + metadata_file_list[3])\n",
    "spark.read.option(\"multiline\",\"true\").json(\"s3a://go01-demo/\" + metadata_file_list[3]).toPandas()"
   ]
  },
  {
   "cell_type": "code",
   "execution_count": null,
   "id": "4bdce88a-df1c-4e93-960e-fcf732bb9df0",
   "metadata": {},
   "outputs": [],
   "source": []
  }
 ],
 "metadata": {
  "kernelspec": {
   "display_name": "Python 3 (ipykernel)",
   "language": "python",
   "name": "python3"
  },
  "language_info": {
   "codemirror_mode": {
    "name": "ipython",
    "version": 3
   },
   "file_extension": ".py",
   "mimetype": "text/x-python",
   "name": "python",
   "nbconvert_exporter": "python",
   "pygments_lexer": "ipython3",
   "version": "3.7.13"
  }
 },
 "nbformat": 4,
 "nbformat_minor": 5
}
